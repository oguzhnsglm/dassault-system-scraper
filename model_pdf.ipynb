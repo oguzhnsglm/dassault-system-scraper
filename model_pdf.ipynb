{
 "cells": [
  {
   "cell_type": "code",
   "execution_count": 1,
   "id": "9ad7dedd",
   "metadata": {},
   "outputs": [
    {
     "name": "stdout",
     "output_type": "stream",
     "text": [
      "                                                title  \\\n",
      "0                                     Getting Started   \n",
      "1   Getting Started>Setting Up Your 3DEXPERIENCE P...   \n",
      "2   Getting Started>Starting the 3DEXPERIENCE Plat...   \n",
      "3   Getting Started>Discovering Roles, Apps, Busin...   \n",
      "4               Getting Started>Accessing a Dashboard   \n",
      "5     Getting Started>Opening an App from the Compass   \n",
      "6   Getting Started>Opening a Native App from a De...   \n",
      "7   Getting Started>Selecting a User Profile for D...   \n",
      "8   Getting Started>Selecting a Mouse Profile for ...   \n",
      "9                Getting Started>Selecting a Language   \n",
      "10                       Getting Started>Getting Help   \n",
      "11                       Getting Started>Getting Help   \n",
      "12  Getting Started>Displaying Tooltips and Long H...   \n",
      "13            Getting Started>Getting Contextual Help   \n",
      "14    Getting Started>Using the User Assistance Panel   \n",
      "15                Getting Started>Accessing Tutorials   \n",
      "16  Getting Started>Accessing Installed User Assis...   \n",
      "17          Getting Started>Using the User Assistance   \n",
      "18    Getting Started>About the 3DEXPERIENCE Platform   \n",
      "19      Getting Started>Searching the User Assistance   \n",
      "20  Getting Started>About Corporate Legal Notices ...   \n",
      "\n",
      "                                              content  \n",
      "0   3DEXPERIENCE provides an easy-to-use interface...  \n",
      "1   If you are the platform administrator you need...  \n",
      "2   Once you have been granted the required access...  \n",
      "3   You can discover all the roles, apps, business...  \n",
      "4   Dashboards let you gather and reuse content fr...  \n",
      "5   You can open apps using the Compass. Three typ...  \n",
      "6   You can open an app by double-clicking its sho...  \n",
      "7   A user profile is a collection of visualizatio...  \n",
      "8   A mouse profile is a collection of mouse contr...  \n",
      "9   You can start a session in a language other th...  \n",
      "10  If you have questions or need to resolve issue...  \n",
      "11  If you have questions while you use the 3DEXPE...  \n",
      "12  You can get help on a command by pointing to i...  \n",
      "13  You can open context-sensitive help for dashbo...  \n",
      "14  You can display more assistance in a User Assi...  \n",
      "15  https://help.3ds.com/2024x/english/DSDoc/EXP3D...  \n",
      "16  The default online user assistance is availabl...  \n",
      "17  The user assistance is web-oriented, using HTM...  \n",
      "18  You can display additional information about t...  \n",
      "19  For the online User Assistance (help.3ds.com),...  \n",
      "20  If your company has deployed its own legal not...  \n"
     ]
    }
   ],
   "source": [
    "import pdfplumber\n",
    "import pandas as pd\n",
    "import os\n",
    "\n",
    "sections = []\n",
    "current_title = None\n",
    "current_content = \"\"\n",
    "root_title = None  # ilk başlığı tutacak\n",
    "\n",
    "def is_close_color(c, target=(0.1882, 0.3176, 0.3922), tol=0.01):\n",
    "    if not c or len(c) != 3:\n",
    "        return False\n",
    "    return all(abs(ci - ti) < tol for ci, ti in zip(c, target))\n",
    "\n",
    "# PDF'i işle\n",
    "with pdfplumber.open(\"ornek.pdf\") as pdf:\n",
    "    for page in pdf.pages:\n",
    "        lines = {}\n",
    "        for char in page.chars:\n",
    "            top = round(char[\"top\"], 1)\n",
    "            if top not in lines:\n",
    "                lines[top] = []\n",
    "            lines[top].append(char)\n",
    "        \n",
    "        for top in sorted(lines.keys()):\n",
    "            line_chars = lines[top]\n",
    "            text = \"\".join(c[\"text\"] for c in line_chars).strip()\n",
    "            sizes = set(c[\"size\"] for c in line_chars)  # size yine çıkarılıyor\n",
    "            colors = set(c[\"non_stroking_color\"] for c in line_chars)\n",
    "\n",
    "            # sadece color kontrolü\n",
    "            correct_color = any(is_close_color(c) for c in colors)\n",
    "\n",
    "            if correct_color:\n",
    "                # ilk başlık geldiğinde root_title olarak sakla\n",
    "                if root_title is None:\n",
    "                    root_title = text\n",
    "                else:\n",
    "                    text = f\"{root_title}>{text}\"\n",
    "\n",
    "                # önceki başlık varsa kaydet\n",
    "                if current_title:\n",
    "                    sections.append({\n",
    "                        \"title\": current_title,\n",
    "                        \"content\": current_content.strip()\n",
    "                    })\n",
    "                current_title = text\n",
    "                current_content = \"\"\n",
    "            else:\n",
    "                current_content += text + \" \"\n",
    "\n",
    "# Son başlığı ekle\n",
    "if current_title:\n",
    "    sections.append({\"title\": current_title, \"content\": current_content.strip()})\n",
    "\n",
    "# Yeni dataframe\n",
    "new_df = pd.DataFrame(sections)\n",
    "\n",
    "# Eski CSV varsa oku, yoksa boş DataFrame\n",
    "if os.path.exists(\"data.csv\"):\n",
    "    old_df = pd.read_csv(\"data.csv\")\n",
    "    combined_df = pd.concat([old_df, new_df], ignore_index=True)\n",
    "else:\n",
    "    combined_df = new_df\n",
    "\n",
    "# Kaydet\n",
    "combined_df.to_csv(\"data.csv\", index=False, encoding=\"utf-8\")\n",
    "print(combined_df)"
   ]
  },
  {
   "cell_type": "code",
   "execution_count": 2,
   "id": "7b556f62",
   "metadata": {},
   "outputs": [
    {
     "name": "stdout",
     "output_type": "stream",
     "text": [
      "🔍 İşleniyor: pdf_folder\\ornek10.pdf\n",
      "📘 ornek10.pdf içinden çıkarılan topic sayısı: 17\n",
      "🔍 İşleniyor: pdf_folder\\ornek100.pdf\n"
     ]
    },
    {
     "name": "stderr",
     "output_type": "stream",
     "text": [
      "Could get FontBBox from font descriptor because None cannot be parsed as 4 floats\n",
      "Could get FontBBox from font descriptor because None cannot be parsed as 4 floats\n",
      "Could get FontBBox from font descriptor because None cannot be parsed as 4 floats\n",
      "Could get FontBBox from font descriptor because None cannot be parsed as 4 floats\n"
     ]
    },
    {
     "name": "stdout",
     "output_type": "stream",
     "text": [
      "📘 ornek100.pdf içinden çıkarılan topic sayısı: 551\n",
      "🔍 İşleniyor: pdf_folder\\ornek101.pdf\n",
      "📘 ornek101.pdf içinden çıkarılan topic sayısı: 32\n",
      "🔍 İşleniyor: pdf_folder\\ornek102.pdf\n",
      "📘 ornek102.pdf içinden çıkarılan topic sayısı: 289\n",
      "🔍 İşleniyor: pdf_folder\\ornek103.pdf\n",
      "📘 ornek103.pdf içinden çıkarılan topic sayısı: 7\n",
      "🔍 İşleniyor: pdf_folder\\ornek104.pdf\n",
      "📘 ornek104.pdf içinden çıkarılan topic sayısı: 29\n",
      "🔍 İşleniyor: pdf_folder\\ornek105.pdf\n",
      "📘 ornek105.pdf içinden çıkarılan topic sayısı: 32\n",
      "🔍 İşleniyor: pdf_folder\\ornek106.pdf\n",
      "📘 ornek106.pdf içinden çıkarılan topic sayısı: 30\n",
      "🔍 İşleniyor: pdf_folder\\ornek107.pdf\n",
      "📘 ornek107.pdf içinden çıkarılan topic sayısı: 16\n",
      "🔍 İşleniyor: pdf_folder\\ornek108.pdf\n",
      "📘 ornek108.pdf içinden çıkarılan topic sayısı: 13\n",
      "🔍 İşleniyor: pdf_folder\\ornek109.pdf\n",
      "📘 ornek109.pdf içinden çıkarılan topic sayısı: 20\n",
      "🔍 İşleniyor: pdf_folder\\ornek11.pdf\n",
      "📘 ornek11.pdf içinden çıkarılan topic sayısı: 98\n",
      "🔍 İşleniyor: pdf_folder\\ornek110.pdf\n",
      "📘 ornek110.pdf içinden çıkarılan topic sayısı: 162\n",
      "🔍 İşleniyor: pdf_folder\\ornek111.pdf\n",
      "📘 ornek111.pdf içinden çıkarılan topic sayısı: 19\n",
      "🔍 İşleniyor: pdf_folder\\ornek112.pdf\n",
      "📘 ornek112.pdf içinden çıkarılan topic sayısı: 44\n",
      "🔍 İşleniyor: pdf_folder\\ornek113.pdf\n",
      "📘 ornek113.pdf içinden çıkarılan topic sayısı: 105\n",
      "🔍 İşleniyor: pdf_folder\\ornek114.pdf\n",
      "📘 ornek114.pdf içinden çıkarılan topic sayısı: 16\n",
      "🔍 İşleniyor: pdf_folder\\ornek115.pdf\n",
      "📘 ornek115.pdf içinden çıkarılan topic sayısı: 136\n",
      "🔍 İşleniyor: pdf_folder\\ornek116.pdf\n",
      "📘 ornek116.pdf içinden çıkarılan topic sayısı: 50\n",
      "🔍 İşleniyor: pdf_folder\\ornek117.pdf\n",
      "📘 ornek117.pdf içinden çıkarılan topic sayısı: 91\n",
      "🔍 İşleniyor: pdf_folder\\ornek118.pdf\n",
      "📘 ornek118.pdf içinden çıkarılan topic sayısı: 80\n",
      "🔍 İşleniyor: pdf_folder\\ornek119.pdf\n",
      "📘 ornek119.pdf içinden çıkarılan topic sayısı: 139\n",
      "🔍 İşleniyor: pdf_folder\\ornek12.pdf\n",
      "📘 ornek12.pdf içinden çıkarılan topic sayısı: 14\n",
      "🔍 İşleniyor: pdf_folder\\ornek120.pdf\n",
      "📘 ornek120.pdf içinden çıkarılan topic sayısı: 121\n",
      "🔍 İşleniyor: pdf_folder\\ornek121.pdf\n",
      "📘 ornek121.pdf içinden çıkarılan topic sayısı: 49\n",
      "🔍 İşleniyor: pdf_folder\\ornek122.pdf\n",
      "📘 ornek122.pdf içinden çıkarılan topic sayısı: 19\n",
      "🔍 İşleniyor: pdf_folder\\ornek123.pdf\n",
      "📘 ornek123.pdf içinden çıkarılan topic sayısı: 15\n",
      "🔍 İşleniyor: pdf_folder\\ornek124.pdf\n",
      "📘 ornek124.pdf içinden çıkarılan topic sayısı: 207\n",
      "🔍 İşleniyor: pdf_folder\\ornek125.pdf\n",
      "📘 ornek125.pdf içinden çıkarılan topic sayısı: 190\n",
      "🔍 İşleniyor: pdf_folder\\ornek126.pdf\n",
      "📘 ornek126.pdf içinden çıkarılan topic sayısı: 57\n",
      "🔍 İşleniyor: pdf_folder\\ornek127.pdf\n",
      "📘 ornek127.pdf içinden çıkarılan topic sayısı: 153\n",
      "🔍 İşleniyor: pdf_folder\\ornek128.pdf\n",
      "📘 ornek128.pdf içinden çıkarılan topic sayısı: 91\n",
      "🔍 İşleniyor: pdf_folder\\ornek129.pdf\n",
      "📘 ornek129.pdf içinden çıkarılan topic sayısı: 76\n",
      "🔍 İşleniyor: pdf_folder\\ornek13.pdf\n"
     ]
    },
    {
     "name": "stderr",
     "output_type": "stream",
     "text": [
      "Could get FontBBox from font descriptor because None cannot be parsed as 4 floats\n",
      "Could get FontBBox from font descriptor because None cannot be parsed as 4 floats\n",
      "Could get FontBBox from font descriptor because None cannot be parsed as 4 floats\n",
      "Could get FontBBox from font descriptor because None cannot be parsed as 4 floats\n"
     ]
    },
    {
     "name": "stdout",
     "output_type": "stream",
     "text": [
      "📘 ornek13.pdf içinden çıkarılan topic sayısı: 447\n",
      "🔍 İşleniyor: pdf_folder\\ornek130.pdf\n",
      "📘 ornek130.pdf içinden çıkarılan topic sayısı: 39\n",
      "🔍 İşleniyor: pdf_folder\\ornek131.pdf\n",
      "📘 ornek131.pdf içinden çıkarılan topic sayısı: 31\n",
      "🔍 İşleniyor: pdf_folder\\ornek132.pdf\n",
      "📘 ornek132.pdf içinden çıkarılan topic sayısı: 16\n",
      "🔍 İşleniyor: pdf_folder\\ornek133.pdf\n",
      "📘 ornek133.pdf içinden çıkarılan topic sayısı: 131\n",
      "🔍 İşleniyor: pdf_folder\\ornek134.pdf\n",
      "📘 ornek134.pdf içinden çıkarılan topic sayısı: 6\n",
      "🔍 İşleniyor: pdf_folder\\ornek135.pdf\n",
      "📘 ornek135.pdf içinden çıkarılan topic sayısı: 254\n",
      "🔍 İşleniyor: pdf_folder\\ornek136.pdf\n",
      "📘 ornek136.pdf içinden çıkarılan topic sayısı: 710\n",
      "🔍 İşleniyor: pdf_folder\\ornek137.pdf\n",
      "📘 ornek137.pdf içinden çıkarılan topic sayısı: 10\n",
      "🔍 İşleniyor: pdf_folder\\ornek138.pdf\n",
      "📘 ornek138.pdf içinden çıkarılan topic sayısı: 294\n",
      "🔍 İşleniyor: pdf_folder\\ornek139.pdf\n",
      "📘 ornek139.pdf içinden çıkarılan topic sayısı: 293\n",
      "🔍 İşleniyor: pdf_folder\\ornek14.pdf\n"
     ]
    },
    {
     "name": "stderr",
     "output_type": "stream",
     "text": [
      "Could get FontBBox from font descriptor because None cannot be parsed as 4 floats\n",
      "Could get FontBBox from font descriptor because None cannot be parsed as 4 floats\n",
      "Could get FontBBox from font descriptor because None cannot be parsed as 4 floats\n"
     ]
    },
    {
     "name": "stdout",
     "output_type": "stream",
     "text": [
      "📘 ornek14.pdf içinden çıkarılan topic sayısı: 223\n",
      "🔍 İşleniyor: pdf_folder\\ornek140.pdf\n",
      "📘 ornek140.pdf içinden çıkarılan topic sayısı: 232\n",
      "🔍 İşleniyor: pdf_folder\\ornek141.pdf\n",
      "📘 ornek141.pdf içinden çıkarılan topic sayısı: 313\n",
      "🔍 İşleniyor: pdf_folder\\ornek142.pdf\n",
      "📘 ornek142.pdf içinden çıkarılan topic sayısı: 263\n",
      "🔍 İşleniyor: pdf_folder\\ornek143.pdf\n",
      "📘 ornek143.pdf içinden çıkarılan topic sayısı: 214\n",
      "🔍 İşleniyor: pdf_folder\\ornek144.pdf\n",
      "📘 ornek144.pdf içinden çıkarılan topic sayısı: 246\n",
      "🔍 İşleniyor: pdf_folder\\ornek145.pdf\n",
      "📘 ornek145.pdf içinden çıkarılan topic sayısı: 208\n",
      "🔍 İşleniyor: pdf_folder\\ornek146.pdf\n",
      "📘 ornek146.pdf içinden çıkarılan topic sayısı: 193\n",
      "🔍 İşleniyor: pdf_folder\\ornek147.pdf\n",
      "📘 ornek147.pdf içinden çıkarılan topic sayısı: 421\n",
      "🔍 İşleniyor: pdf_folder\\ornek148.pdf\n",
      "📘 ornek148.pdf içinden çıkarılan topic sayısı: 1300\n",
      "🔍 İşleniyor: pdf_folder\\ornek149.pdf\n",
      "📘 ornek149.pdf içinden çıkarılan topic sayısı: 108\n",
      "🔍 İşleniyor: pdf_folder\\ornek15.pdf\n",
      "📘 ornek15.pdf içinden çıkarılan topic sayısı: 334\n",
      "🔍 İşleniyor: pdf_folder\\ornek150.pdf\n",
      "📘 ornek150.pdf içinden çıkarılan topic sayısı: 1\n",
      "🔍 İşleniyor: pdf_folder\\ornek151.pdf\n",
      "📘 ornek151.pdf içinden çıkarılan topic sayısı: 12\n",
      "🔍 İşleniyor: pdf_folder\\ornek152.pdf\n",
      "📘 ornek152.pdf içinden çıkarılan topic sayısı: 1\n",
      "🔍 İşleniyor: pdf_folder\\ornek153.pdf\n",
      "📘 ornek153.pdf içinden çıkarılan topic sayısı: 532\n",
      "🔍 İşleniyor: pdf_folder\\ornek154.pdf\n"
     ]
    },
    {
     "name": "stderr",
     "output_type": "stream",
     "text": [
      "Could get FontBBox from font descriptor because None cannot be parsed as 4 floats\n",
      "Could get FontBBox from font descriptor because None cannot be parsed as 4 floats\n",
      "Could get FontBBox from font descriptor because None cannot be parsed as 4 floats\n"
     ]
    },
    {
     "name": "stdout",
     "output_type": "stream",
     "text": [
      "📘 ornek154.pdf içinden çıkarılan topic sayısı: 1099\n",
      "🔍 İşleniyor: pdf_folder\\ornek155.pdf\n"
     ]
    },
    {
     "name": "stderr",
     "output_type": "stream",
     "text": [
      "Could get FontBBox from font descriptor because None cannot be parsed as 4 floats\n",
      "Could get FontBBox from font descriptor because None cannot be parsed as 4 floats\n",
      "Could get FontBBox from font descriptor because None cannot be parsed as 4 floats\n",
      "Could get FontBBox from font descriptor because None cannot be parsed as 4 floats\n",
      "Could get FontBBox from font descriptor because None cannot be parsed as 4 floats\n",
      "Could get FontBBox from font descriptor because None cannot be parsed as 4 floats\n",
      "Could get FontBBox from font descriptor because None cannot be parsed as 4 floats\n",
      "Could get FontBBox from font descriptor because None cannot be parsed as 4 floats\n",
      "Could get FontBBox from font descriptor because None cannot be parsed as 4 floats\n",
      "Could get FontBBox from font descriptor because None cannot be parsed as 4 floats\n"
     ]
    },
    {
     "name": "stdout",
     "output_type": "stream",
     "text": [
      "📘 ornek155.pdf içinden çıkarılan topic sayısı: 274\n",
      "🔍 İşleniyor: pdf_folder\\ornek156.pdf\n"
     ]
    },
    {
     "name": "stderr",
     "output_type": "stream",
     "text": [
      "Could get FontBBox from font descriptor because None cannot be parsed as 4 floats\n",
      "Could get FontBBox from font descriptor because None cannot be parsed as 4 floats\n",
      "Could get FontBBox from font descriptor because None cannot be parsed as 4 floats\n",
      "Could get FontBBox from font descriptor because None cannot be parsed as 4 floats\n",
      "Could get FontBBox from font descriptor because None cannot be parsed as 4 floats\n",
      "Could get FontBBox from font descriptor because None cannot be parsed as 4 floats\n",
      "Could get FontBBox from font descriptor because None cannot be parsed as 4 floats\n",
      "Could get FontBBox from font descriptor because None cannot be parsed as 4 floats\n",
      "Could get FontBBox from font descriptor because None cannot be parsed as 4 floats\n",
      "Could get FontBBox from font descriptor because None cannot be parsed as 4 floats\n",
      "Could get FontBBox from font descriptor because None cannot be parsed as 4 floats\n",
      "Could get FontBBox from font descriptor because None cannot be parsed as 4 floats\n",
      "Could get FontBBox from font descriptor because None cannot be parsed as 4 floats\n"
     ]
    },
    {
     "name": "stdout",
     "output_type": "stream",
     "text": [
      "📘 ornek156.pdf içinden çıkarılan topic sayısı: 814\n",
      "🔍 İşleniyor: pdf_folder\\ornek157.pdf\n",
      "📘 ornek157.pdf içinden çıkarılan topic sayısı: 1\n",
      "🔍 İşleniyor: pdf_folder\\ornek158.pdf\n",
      "📘 ornek158.pdf içinden çıkarılan topic sayısı: 4\n",
      "🔍 İşleniyor: pdf_folder\\ornek159.pdf\n",
      "📘 ornek159.pdf içinden çıkarılan topic sayısı: 5\n",
      "🔍 İşleniyor: pdf_folder\\ornek16.pdf\n"
     ]
    },
    {
     "name": "stderr",
     "output_type": "stream",
     "text": [
      "Could get FontBBox from font descriptor because None cannot be parsed as 4 floats\n",
      "Could get FontBBox from font descriptor because None cannot be parsed as 4 floats\n",
      "Could get FontBBox from font descriptor because None cannot be parsed as 4 floats\n",
      "Could get FontBBox from font descriptor because None cannot be parsed as 4 floats\n"
     ]
    },
    {
     "name": "stdout",
     "output_type": "stream",
     "text": [
      "📘 ornek16.pdf içinden çıkarılan topic sayısı: 452\n",
      "🔍 İşleniyor: pdf_folder\\ornek160.pdf\n"
     ]
    },
    {
     "name": "stderr",
     "output_type": "stream",
     "text": [
      "Could get FontBBox from font descriptor because None cannot be parsed as 4 floats\n",
      "Could get FontBBox from font descriptor because None cannot be parsed as 4 floats\n",
      "Could get FontBBox from font descriptor because None cannot be parsed as 4 floats\n",
      "Could get FontBBox from font descriptor because None cannot be parsed as 4 floats\n",
      "Could get FontBBox from font descriptor because None cannot be parsed as 4 floats\n",
      "Could get FontBBox from font descriptor because None cannot be parsed as 4 floats\n",
      "Could get FontBBox from font descriptor because None cannot be parsed as 4 floats\n",
      "Could get FontBBox from font descriptor because None cannot be parsed as 4 floats\n",
      "Could get FontBBox from font descriptor because None cannot be parsed as 4 floats\n",
      "Could get FontBBox from font descriptor because None cannot be parsed as 4 floats\n",
      "Could get FontBBox from font descriptor because None cannot be parsed as 4 floats\n",
      "Could get FontBBox from font descriptor because None cannot be parsed as 4 floats\n",
      "Could get FontBBox from font descriptor because None cannot be parsed as 4 floats\n",
      "Could get FontBBox from font descriptor because None cannot be parsed as 4 floats\n"
     ]
    },
    {
     "name": "stdout",
     "output_type": "stream",
     "text": [
      "📘 ornek160.pdf içinden çıkarılan topic sayısı: 114\n",
      "🔍 İşleniyor: pdf_folder\\ornek161.pdf\n"
     ]
    },
    {
     "name": "stderr",
     "output_type": "stream",
     "text": [
      "Could get FontBBox from font descriptor because None cannot be parsed as 4 floats\n"
     ]
    },
    {
     "name": "stdout",
     "output_type": "stream",
     "text": [
      "📘 ornek161.pdf içinden çıkarılan topic sayısı: 89\n",
      "🔍 İşleniyor: pdf_folder\\ornek162.pdf\n",
      "📘 ornek162.pdf içinden çıkarılan topic sayısı: 4\n",
      "🔍 İşleniyor: pdf_folder\\ornek163.pdf\n",
      "📘 ornek163.pdf içinden çıkarılan topic sayısı: 9\n",
      "🔍 İşleniyor: pdf_folder\\ornek164.pdf\n",
      "📘 ornek164.pdf içinden çıkarılan topic sayısı: 1\n",
      "🔍 İşleniyor: pdf_folder\\ornek165.pdf\n",
      "📘 ornek165.pdf içinden çıkarılan topic sayısı: 1\n",
      "🔍 İşleniyor: pdf_folder\\ornek166.pdf\n"
     ]
    },
    {
     "name": "stderr",
     "output_type": "stream",
     "text": [
      "Could get FontBBox from font descriptor because None cannot be parsed as 4 floats\n",
      "Could get FontBBox from font descriptor because None cannot be parsed as 4 floats\n",
      "Could get FontBBox from font descriptor because None cannot be parsed as 4 floats\n",
      "Could get FontBBox from font descriptor because None cannot be parsed as 4 floats\n",
      "Could get FontBBox from font descriptor because None cannot be parsed as 4 floats\n"
     ]
    },
    {
     "name": "stdout",
     "output_type": "stream",
     "text": [
      "📘 ornek166.pdf içinden çıkarılan topic sayısı: 11\n",
      "🔍 İşleniyor: pdf_folder\\ornek167.pdf\n",
      "📘 ornek167.pdf içinden çıkarılan topic sayısı: 10\n",
      "🔍 İşleniyor: pdf_folder\\ornek168.pdf\n"
     ]
    },
    {
     "name": "stderr",
     "output_type": "stream",
     "text": [
      "Could get FontBBox from font descriptor because None cannot be parsed as 4 floats\n",
      "Could get FontBBox from font descriptor because None cannot be parsed as 4 floats\n",
      "Could get FontBBox from font descriptor because None cannot be parsed as 4 floats\n",
      "Could get FontBBox from font descriptor because None cannot be parsed as 4 floats\n",
      "Could get FontBBox from font descriptor because None cannot be parsed as 4 floats\n",
      "Could get FontBBox from font descriptor because None cannot be parsed as 4 floats\n"
     ]
    },
    {
     "name": "stdout",
     "output_type": "stream",
     "text": [
      "📘 ornek168.pdf içinden çıkarılan topic sayısı: 8\n",
      "🔍 İşleniyor: pdf_folder\\ornek169.pdf\n",
      "📘 ornek169.pdf içinden çıkarılan topic sayısı: 4\n",
      "🔍 İşleniyor: pdf_folder\\ornek17.pdf\n",
      "📘 ornek17.pdf içinden çıkarılan topic sayısı: 32\n",
      "🔍 İşleniyor: pdf_folder\\ornek170.pdf\n"
     ]
    },
    {
     "name": "stderr",
     "output_type": "stream",
     "text": [
      "Could get FontBBox from font descriptor because None cannot be parsed as 4 floats\n",
      "Could get FontBBox from font descriptor because None cannot be parsed as 4 floats\n",
      "Could get FontBBox from font descriptor because None cannot be parsed as 4 floats\n"
     ]
    },
    {
     "name": "stdout",
     "output_type": "stream",
     "text": [
      "📘 ornek170.pdf içinden çıkarılan topic sayısı: 3\n",
      "🔍 İşleniyor: pdf_folder\\ornek171.pdf\n"
     ]
    },
    {
     "name": "stderr",
     "output_type": "stream",
     "text": [
      "Could get FontBBox from font descriptor because None cannot be parsed as 4 floats\n",
      "Could get FontBBox from font descriptor because None cannot be parsed as 4 floats\n"
     ]
    },
    {
     "name": "stdout",
     "output_type": "stream",
     "text": [
      "📘 ornek171.pdf içinden çıkarılan topic sayısı: 6\n",
      "🔍 İşleniyor: pdf_folder\\ornek172.pdf\n"
     ]
    },
    {
     "name": "stderr",
     "output_type": "stream",
     "text": [
      "Could get FontBBox from font descriptor because None cannot be parsed as 4 floats\n",
      "Could get FontBBox from font descriptor because None cannot be parsed as 4 floats\n",
      "Could get FontBBox from font descriptor because None cannot be parsed as 4 floats\n",
      "Could get FontBBox from font descriptor because None cannot be parsed as 4 floats\n",
      "Could get FontBBox from font descriptor because None cannot be parsed as 4 floats\n",
      "Could get FontBBox from font descriptor because None cannot be parsed as 4 floats\n",
      "Could get FontBBox from font descriptor because None cannot be parsed as 4 floats\n",
      "Could get FontBBox from font descriptor because None cannot be parsed as 4 floats\n"
     ]
    },
    {
     "name": "stdout",
     "output_type": "stream",
     "text": [
      "📘 ornek172.pdf içinden çıkarılan topic sayısı: 19\n",
      "🔍 İşleniyor: pdf_folder\\ornek173.pdf\n"
     ]
    },
    {
     "name": "stderr",
     "output_type": "stream",
     "text": [
      "Could get FontBBox from font descriptor because None cannot be parsed as 4 floats\n",
      "Could get FontBBox from font descriptor because None cannot be parsed as 4 floats\n",
      "Could get FontBBox from font descriptor because None cannot be parsed as 4 floats\n",
      "Could get FontBBox from font descriptor because None cannot be parsed as 4 floats\n"
     ]
    },
    {
     "name": "stdout",
     "output_type": "stream",
     "text": [
      "📘 ornek173.pdf içinden çıkarılan topic sayısı: 4\n",
      "🔍 İşleniyor: pdf_folder\\ornek174.pdf\n"
     ]
    },
    {
     "name": "stderr",
     "output_type": "stream",
     "text": [
      "Could get FontBBox from font descriptor because None cannot be parsed as 4 floats\n",
      "Could get FontBBox from font descriptor because None cannot be parsed as 4 floats\n"
     ]
    },
    {
     "name": "stdout",
     "output_type": "stream",
     "text": [
      "📘 ornek174.pdf içinden çıkarılan topic sayısı: 1\n",
      "🔍 İşleniyor: pdf_folder\\ornek175.pdf\n"
     ]
    },
    {
     "name": "stderr",
     "output_type": "stream",
     "text": [
      "Could get FontBBox from font descriptor because None cannot be parsed as 4 floats\n",
      "Could get FontBBox from font descriptor because None cannot be parsed as 4 floats\n",
      "Could get FontBBox from font descriptor because None cannot be parsed as 4 floats\n",
      "Could get FontBBox from font descriptor because None cannot be parsed as 4 floats\n",
      "Could get FontBBox from font descriptor because None cannot be parsed as 4 floats\n",
      "Could get FontBBox from font descriptor because None cannot be parsed as 4 floats\n",
      "Could get FontBBox from font descriptor because None cannot be parsed as 4 floats\n",
      "Could get FontBBox from font descriptor because None cannot be parsed as 4 floats\n",
      "Could get FontBBox from font descriptor because None cannot be parsed as 4 floats\n",
      "Could get FontBBox from font descriptor because None cannot be parsed as 4 floats\n",
      "Could get FontBBox from font descriptor because None cannot be parsed as 4 floats\n",
      "Could get FontBBox from font descriptor because None cannot be parsed as 4 floats\n",
      "Could get FontBBox from font descriptor because None cannot be parsed as 4 floats\n",
      "Could get FontBBox from font descriptor because None cannot be parsed as 4 floats\n",
      "Could get FontBBox from font descriptor because None cannot be parsed as 4 floats\n"
     ]
    },
    {
     "name": "stdout",
     "output_type": "stream",
     "text": [
      "📘 ornek175.pdf içinden çıkarılan topic sayısı: 11\n",
      "🔍 İşleniyor: pdf_folder\\ornek176.pdf\n"
     ]
    },
    {
     "name": "stderr",
     "output_type": "stream",
     "text": [
      "Could get FontBBox from font descriptor because None cannot be parsed as 4 floats\n"
     ]
    },
    {
     "name": "stdout",
     "output_type": "stream",
     "text": [
      "📘 ornek176.pdf içinden çıkarılan topic sayısı: 3\n",
      "🔍 İşleniyor: pdf_folder\\ornek177.pdf\n"
     ]
    },
    {
     "name": "stderr",
     "output_type": "stream",
     "text": [
      "Could get FontBBox from font descriptor because None cannot be parsed as 4 floats\n",
      "Could get FontBBox from font descriptor because None cannot be parsed as 4 floats\n",
      "Could get FontBBox from font descriptor because None cannot be parsed as 4 floats\n",
      "Could get FontBBox from font descriptor because None cannot be parsed as 4 floats\n",
      "Could get FontBBox from font descriptor because None cannot be parsed as 4 floats\n"
     ]
    },
    {
     "name": "stdout",
     "output_type": "stream",
     "text": [
      "📘 ornek177.pdf içinden çıkarılan topic sayısı: 4\n",
      "🔍 İşleniyor: pdf_folder\\ornek178.pdf\n"
     ]
    },
    {
     "name": "stderr",
     "output_type": "stream",
     "text": [
      "Could get FontBBox from font descriptor because None cannot be parsed as 4 floats\n",
      "Could get FontBBox from font descriptor because None cannot be parsed as 4 floats\n",
      "Could get FontBBox from font descriptor because None cannot be parsed as 4 floats\n"
     ]
    },
    {
     "name": "stdout",
     "output_type": "stream",
     "text": [
      "📘 ornek178.pdf içinden çıkarılan topic sayısı: 9\n",
      "🔍 İşleniyor: pdf_folder\\ornek179.pdf\n"
     ]
    },
    {
     "name": "stderr",
     "output_type": "stream",
     "text": [
      "Could get FontBBox from font descriptor because None cannot be parsed as 4 floats\n",
      "Could get FontBBox from font descriptor because None cannot be parsed as 4 floats\n",
      "Could get FontBBox from font descriptor because None cannot be parsed as 4 floats\n",
      "Could get FontBBox from font descriptor because None cannot be parsed as 4 floats\n",
      "Could get FontBBox from font descriptor because None cannot be parsed as 4 floats\n",
      "Could get FontBBox from font descriptor because None cannot be parsed as 4 floats\n",
      "Could get FontBBox from font descriptor because None cannot be parsed as 4 floats\n"
     ]
    },
    {
     "name": "stdout",
     "output_type": "stream",
     "text": [
      "📘 ornek179.pdf içinden çıkarılan topic sayısı: 10\n",
      "🔍 İşleniyor: pdf_folder\\ornek18.pdf\n",
      "📘 ornek18.pdf içinden çıkarılan topic sayısı: 58\n",
      "🔍 İşleniyor: pdf_folder\\ornek180.pdf\n"
     ]
    },
    {
     "name": "stderr",
     "output_type": "stream",
     "text": [
      "Could get FontBBox from font descriptor because None cannot be parsed as 4 floats\n",
      "Could get FontBBox from font descriptor because None cannot be parsed as 4 floats\n"
     ]
    },
    {
     "name": "stdout",
     "output_type": "stream",
     "text": [
      "📘 ornek180.pdf içinden çıkarılan topic sayısı: 233\n",
      "🔍 İşleniyor: pdf_folder\\ornek181.pdf\n"
     ]
    },
    {
     "name": "stderr",
     "output_type": "stream",
     "text": [
      "Could get FontBBox from font descriptor because None cannot be parsed as 4 floats\n",
      "Could get FontBBox from font descriptor because None cannot be parsed as 4 floats\n"
     ]
    },
    {
     "name": "stdout",
     "output_type": "stream",
     "text": [
      "📘 ornek181.pdf içinden çıkarılan topic sayısı: 516\n",
      "🔍 İşleniyor: pdf_folder\\ornek182.pdf\n"
     ]
    },
    {
     "name": "stderr",
     "output_type": "stream",
     "text": [
      "Could get FontBBox from font descriptor because None cannot be parsed as 4 floats\n",
      "Could get FontBBox from font descriptor because None cannot be parsed as 4 floats\n",
      "Could get FontBBox from font descriptor because None cannot be parsed as 4 floats\n",
      "Could get FontBBox from font descriptor because None cannot be parsed as 4 floats\n",
      "Could get FontBBox from font descriptor because None cannot be parsed as 4 floats\n",
      "Could get FontBBox from font descriptor because None cannot be parsed as 4 floats\n"
     ]
    },
    {
     "name": "stdout",
     "output_type": "stream",
     "text": [
      "📘 ornek182.pdf içinden çıkarılan topic sayısı: 296\n",
      "🔍 İşleniyor: pdf_folder\\ornek183.pdf\n",
      "📘 ornek183.pdf içinden çıkarılan topic sayısı: 40\n",
      "🔍 İşleniyor: pdf_folder\\ornek184.pdf\n"
     ]
    },
    {
     "name": "stderr",
     "output_type": "stream",
     "text": [
      "Could get FontBBox from font descriptor because None cannot be parsed as 4 floats\n",
      "Could get FontBBox from font descriptor because None cannot be parsed as 4 floats\n",
      "Could get FontBBox from font descriptor because None cannot be parsed as 4 floats\n",
      "Could get FontBBox from font descriptor because None cannot be parsed as 4 floats\n",
      "Could get FontBBox from font descriptor because None cannot be parsed as 4 floats\n"
     ]
    },
    {
     "name": "stdout",
     "output_type": "stream",
     "text": [
      "📘 ornek184.pdf içinden çıkarılan topic sayısı: 639\n",
      "🔍 İşleniyor: pdf_folder\\ornek185.pdf\n",
      "📘 ornek185.pdf içinden çıkarılan topic sayısı: 13\n",
      "🔍 İşleniyor: pdf_folder\\ornek186.pdf\n"
     ]
    },
    {
     "name": "stderr",
     "output_type": "stream",
     "text": [
      "Could get FontBBox from font descriptor because None cannot be parsed as 4 floats\n",
      "Could get FontBBox from font descriptor because None cannot be parsed as 4 floats\n",
      "Could get FontBBox from font descriptor because None cannot be parsed as 4 floats\n",
      "Could get FontBBox from font descriptor because None cannot be parsed as 4 floats\n",
      "Could get FontBBox from font descriptor because None cannot be parsed as 4 floats\n",
      "Could get FontBBox from font descriptor because None cannot be parsed as 4 floats\n",
      "Could get FontBBox from font descriptor because None cannot be parsed as 4 floats\n",
      "Could get FontBBox from font descriptor because None cannot be parsed as 4 floats\n"
     ]
    },
    {
     "name": "stdout",
     "output_type": "stream",
     "text": [
      "📘 ornek186.pdf içinden çıkarılan topic sayısı: 28\n",
      "🔍 İşleniyor: pdf_folder\\ornek187.pdf\n",
      "📘 ornek187.pdf içinden çıkarılan topic sayısı: 29\n",
      "🔍 İşleniyor: pdf_folder\\ornek188.pdf\n"
     ]
    },
    {
     "name": "stderr",
     "output_type": "stream",
     "text": [
      "Could get FontBBox from font descriptor because None cannot be parsed as 4 floats\n",
      "Could get FontBBox from font descriptor because None cannot be parsed as 4 floats\n",
      "Could get FontBBox from font descriptor because None cannot be parsed as 4 floats\n",
      "Could get FontBBox from font descriptor because None cannot be parsed as 4 floats\n",
      "Could get FontBBox from font descriptor because None cannot be parsed as 4 floats\n",
      "Could get FontBBox from font descriptor because None cannot be parsed as 4 floats\n"
     ]
    },
    {
     "name": "stdout",
     "output_type": "stream",
     "text": [
      "📘 ornek188.pdf içinden çıkarılan topic sayısı: 284\n",
      "🔍 İşleniyor: pdf_folder\\ornek189.pdf\n",
      "📘 ornek189.pdf içinden çıkarılan topic sayısı: 79\n",
      "🔍 İşleniyor: pdf_folder\\ornek19.pdf\n",
      "📘 ornek19.pdf içinden çıkarılan topic sayısı: 106\n",
      "🔍 İşleniyor: pdf_folder\\ornek190.pdf\n"
     ]
    },
    {
     "name": "stderr",
     "output_type": "stream",
     "text": [
      "Could get FontBBox from font descriptor because None cannot be parsed as 4 floats\n",
      "Could get FontBBox from font descriptor because None cannot be parsed as 4 floats\n",
      "Could get FontBBox from font descriptor because None cannot be parsed as 4 floats\n",
      "Could get FontBBox from font descriptor because None cannot be parsed as 4 floats\n"
     ]
    },
    {
     "name": "stdout",
     "output_type": "stream",
     "text": [
      "📘 ornek190.pdf içinden çıkarılan topic sayısı: 250\n",
      "🔍 İşleniyor: pdf_folder\\ornek191.pdf\n"
     ]
    },
    {
     "name": "stderr",
     "output_type": "stream",
     "text": [
      "Could get FontBBox from font descriptor because None cannot be parsed as 4 floats\n",
      "Could get FontBBox from font descriptor because None cannot be parsed as 4 floats\n"
     ]
    },
    {
     "name": "stdout",
     "output_type": "stream",
     "text": [
      "📘 ornek191.pdf içinden çıkarılan topic sayısı: 325\n",
      "🔍 İşleniyor: pdf_folder\\ornek192.pdf\n"
     ]
    },
    {
     "name": "stderr",
     "output_type": "stream",
     "text": [
      "Could get FontBBox from font descriptor because None cannot be parsed as 4 floats\n",
      "Could get FontBBox from font descriptor because None cannot be parsed as 4 floats\n",
      "Could get FontBBox from font descriptor because None cannot be parsed as 4 floats\n",
      "Could get FontBBox from font descriptor because None cannot be parsed as 4 floats\n",
      "Could get FontBBox from font descriptor because None cannot be parsed as 4 floats\n",
      "Could get FontBBox from font descriptor because None cannot be parsed as 4 floats\n",
      "Could get FontBBox from font descriptor because None cannot be parsed as 4 floats\n",
      "Could get FontBBox from font descriptor because None cannot be parsed as 4 floats\n",
      "Could get FontBBox from font descriptor because None cannot be parsed as 4 floats\n"
     ]
    },
    {
     "name": "stdout",
     "output_type": "stream",
     "text": [
      "📘 ornek192.pdf içinden çıkarılan topic sayısı: 587\n",
      "🔍 İşleniyor: pdf_folder\\ornek193.pdf\n",
      "📘 ornek193.pdf içinden çıkarılan topic sayısı: 1\n",
      "🔍 İşleniyor: pdf_folder\\ornek194.pdf\n"
     ]
    },
    {
     "name": "stderr",
     "output_type": "stream",
     "text": [
      "Could get FontBBox from font descriptor because None cannot be parsed as 4 floats\n"
     ]
    },
    {
     "name": "stdout",
     "output_type": "stream",
     "text": [
      "📘 ornek194.pdf içinden çıkarılan topic sayısı: 205\n",
      "🔍 İşleniyor: pdf_folder\\ornek195.pdf\n"
     ]
    },
    {
     "name": "stderr",
     "output_type": "stream",
     "text": [
      "Could get FontBBox from font descriptor because None cannot be parsed as 4 floats\n",
      "Could get FontBBox from font descriptor because None cannot be parsed as 4 floats\n",
      "Could get FontBBox from font descriptor because None cannot be parsed as 4 floats\n",
      "Could get FontBBox from font descriptor because None cannot be parsed as 4 floats\n",
      "Could get FontBBox from font descriptor because None cannot be parsed as 4 floats\n",
      "Could get FontBBox from font descriptor because None cannot be parsed as 4 floats\n",
      "Could get FontBBox from font descriptor because None cannot be parsed as 4 floats\n",
      "Could get FontBBox from font descriptor because None cannot be parsed as 4 floats\n",
      "Could get FontBBox from font descriptor because None cannot be parsed as 4 floats\n"
     ]
    },
    {
     "name": "stdout",
     "output_type": "stream",
     "text": [
      "📘 ornek195.pdf içinden çıkarılan topic sayısı: 362\n",
      "🔍 İşleniyor: pdf_folder\\ornek196.pdf\n"
     ]
    },
    {
     "name": "stderr",
     "output_type": "stream",
     "text": [
      "Could get FontBBox from font descriptor because None cannot be parsed as 4 floats\n",
      "Could get FontBBox from font descriptor because None cannot be parsed as 4 floats\n",
      "Could get FontBBox from font descriptor because None cannot be parsed as 4 floats\n",
      "Could get FontBBox from font descriptor because None cannot be parsed as 4 floats\n",
      "Could get FontBBox from font descriptor because None cannot be parsed as 4 floats\n",
      "Could get FontBBox from font descriptor because None cannot be parsed as 4 floats\n",
      "Could get FontBBox from font descriptor because None cannot be parsed as 4 floats\n",
      "Could get FontBBox from font descriptor because None cannot be parsed as 4 floats\n"
     ]
    },
    {
     "name": "stdout",
     "output_type": "stream",
     "text": [
      "📘 ornek196.pdf içinden çıkarılan topic sayısı: 372\n",
      "🔍 İşleniyor: pdf_folder\\ornek197.pdf\n"
     ]
    },
    {
     "name": "stderr",
     "output_type": "stream",
     "text": [
      "Could get FontBBox from font descriptor because None cannot be parsed as 4 floats\n",
      "Could get FontBBox from font descriptor because None cannot be parsed as 4 floats\n"
     ]
    },
    {
     "name": "stdout",
     "output_type": "stream",
     "text": [
      "📘 ornek197.pdf içinden çıkarılan topic sayısı: 332\n",
      "🔍 İşleniyor: pdf_folder\\ornek198.pdf\n",
      "📘 ornek198.pdf içinden çıkarılan topic sayısı: 17\n",
      "🔍 İşleniyor: pdf_folder\\ornek199.pdf\n"
     ]
    },
    {
     "name": "stderr",
     "output_type": "stream",
     "text": [
      "Could get FontBBox from font descriptor because None cannot be parsed as 4 floats\n",
      "Could get FontBBox from font descriptor because None cannot be parsed as 4 floats\n",
      "Could get FontBBox from font descriptor because None cannot be parsed as 4 floats\n",
      "Could get FontBBox from font descriptor because None cannot be parsed as 4 floats\n",
      "Could get FontBBox from font descriptor because None cannot be parsed as 4 floats\n",
      "Could get FontBBox from font descriptor because None cannot be parsed as 4 floats\n",
      "Could get FontBBox from font descriptor because None cannot be parsed as 4 floats\n",
      "Could get FontBBox from font descriptor because None cannot be parsed as 4 floats\n",
      "Could get FontBBox from font descriptor because None cannot be parsed as 4 floats\n",
      "Could get FontBBox from font descriptor because None cannot be parsed as 4 floats\n"
     ]
    },
    {
     "name": "stdout",
     "output_type": "stream",
     "text": [
      "📘 ornek199.pdf içinden çıkarılan topic sayısı: 36\n",
      "🔍 İşleniyor: pdf_folder\\ornek2.pdf\n",
      "📘 ornek2.pdf içinden çıkarılan topic sayısı: 108\n",
      "🔍 İşleniyor: pdf_folder\\ornek20.pdf\n",
      "📘 ornek20.pdf içinden çıkarılan topic sayısı: 42\n",
      "🔍 İşleniyor: pdf_folder\\ornek200.pdf\n",
      "📘 ornek200.pdf içinden çıkarılan topic sayısı: 5\n",
      "🔍 İşleniyor: pdf_folder\\ornek201.pdf\n"
     ]
    },
    {
     "name": "stderr",
     "output_type": "stream",
     "text": [
      "Could get FontBBox from font descriptor because None cannot be parsed as 4 floats\n",
      "Could get FontBBox from font descriptor because None cannot be parsed as 4 floats\n",
      "Could get FontBBox from font descriptor because None cannot be parsed as 4 floats\n",
      "Could get FontBBox from font descriptor because None cannot be parsed as 4 floats\n",
      "Could get FontBBox from font descriptor because None cannot be parsed as 4 floats\n",
      "Could get FontBBox from font descriptor because None cannot be parsed as 4 floats\n",
      "Could get FontBBox from font descriptor because None cannot be parsed as 4 floats\n",
      "Could get FontBBox from font descriptor because None cannot be parsed as 4 floats\n",
      "Could get FontBBox from font descriptor because None cannot be parsed as 4 floats\n",
      "Could get FontBBox from font descriptor because None cannot be parsed as 4 floats\n",
      "Could get FontBBox from font descriptor because None cannot be parsed as 4 floats\n",
      "Could get FontBBox from font descriptor because None cannot be parsed as 4 floats\n",
      "Could get FontBBox from font descriptor because None cannot be parsed as 4 floats\n",
      "Could get FontBBox from font descriptor because None cannot be parsed as 4 floats\n",
      "Could get FontBBox from font descriptor because None cannot be parsed as 4 floats\n",
      "Could get FontBBox from font descriptor because None cannot be parsed as 4 floats\n",
      "Could get FontBBox from font descriptor because None cannot be parsed as 4 floats\n",
      "Could get FontBBox from font descriptor because None cannot be parsed as 4 floats\n",
      "Could get FontBBox from font descriptor because None cannot be parsed as 4 floats\n",
      "Could get FontBBox from font descriptor because None cannot be parsed as 4 floats\n"
     ]
    },
    {
     "name": "stdout",
     "output_type": "stream",
     "text": [
      "📘 ornek201.pdf içinden çıkarılan topic sayısı: 176\n",
      "🔍 İşleniyor: pdf_folder\\ornek202.pdf\n",
      "📘 ornek202.pdf içinden çıkarılan topic sayısı: 7\n",
      "🔍 İşleniyor: pdf_folder\\ornek203.pdf\n",
      "📘 ornek203.pdf içinden çıkarılan topic sayısı: 118\n",
      "🔍 İşleniyor: pdf_folder\\ornek204.pdf\n",
      "📘 ornek204.pdf içinden çıkarılan topic sayısı: 158\n",
      "🔍 İşleniyor: pdf_folder\\ornek205.pdf\n"
     ]
    },
    {
     "name": "stderr",
     "output_type": "stream",
     "text": [
      "Could get FontBBox from font descriptor because None cannot be parsed as 4 floats\n",
      "Could get FontBBox from font descriptor because None cannot be parsed as 4 floats\n",
      "Could get FontBBox from font descriptor because None cannot be parsed as 4 floats\n",
      "Could get FontBBox from font descriptor because None cannot be parsed as 4 floats\n",
      "Could get FontBBox from font descriptor because None cannot be parsed as 4 floats\n",
      "Could get FontBBox from font descriptor because None cannot be parsed as 4 floats\n"
     ]
    },
    {
     "name": "stdout",
     "output_type": "stream",
     "text": [
      "📘 ornek205.pdf içinden çıkarılan topic sayısı: 36\n",
      "🔍 İşleniyor: pdf_folder\\ornek206.pdf\n"
     ]
    },
    {
     "name": "stderr",
     "output_type": "stream",
     "text": [
      "Could get FontBBox from font descriptor because None cannot be parsed as 4 floats\n",
      "Could get FontBBox from font descriptor because None cannot be parsed as 4 floats\n",
      "Could get FontBBox from font descriptor because None cannot be parsed as 4 floats\n",
      "Could get FontBBox from font descriptor because None cannot be parsed as 4 floats\n",
      "Could get FontBBox from font descriptor because None cannot be parsed as 4 floats\n",
      "Could get FontBBox from font descriptor because None cannot be parsed as 4 floats\n",
      "Could get FontBBox from font descriptor because None cannot be parsed as 4 floats\n",
      "Could get FontBBox from font descriptor because None cannot be parsed as 4 floats\n",
      "Could get FontBBox from font descriptor because None cannot be parsed as 4 floats\n",
      "Could get FontBBox from font descriptor because None cannot be parsed as 4 floats\n",
      "Could get FontBBox from font descriptor because None cannot be parsed as 4 floats\n",
      "Could get FontBBox from font descriptor because None cannot be parsed as 4 floats\n"
     ]
    },
    {
     "name": "stdout",
     "output_type": "stream",
     "text": [
      "📘 ornek206.pdf içinden çıkarılan topic sayısı: 28\n",
      "🔍 İşleniyor: pdf_folder\\ornek207.pdf\n"
     ]
    },
    {
     "name": "stderr",
     "output_type": "stream",
     "text": [
      "Could get FontBBox from font descriptor because None cannot be parsed as 4 floats\n",
      "Could get FontBBox from font descriptor because None cannot be parsed as 4 floats\n",
      "Could get FontBBox from font descriptor because None cannot be parsed as 4 floats\n",
      "Could get FontBBox from font descriptor because None cannot be parsed as 4 floats\n",
      "Could get FontBBox from font descriptor because None cannot be parsed as 4 floats\n",
      "Could get FontBBox from font descriptor because None cannot be parsed as 4 floats\n",
      "Could get FontBBox from font descriptor because None cannot be parsed as 4 floats\n",
      "Could get FontBBox from font descriptor because None cannot be parsed as 4 floats\n",
      "Could get FontBBox from font descriptor because None cannot be parsed as 4 floats\n"
     ]
    },
    {
     "name": "stdout",
     "output_type": "stream",
     "text": [
      "📘 ornek207.pdf içinden çıkarılan topic sayısı: 103\n",
      "🔍 İşleniyor: pdf_folder\\ornek208.pdf\n",
      "📘 ornek208.pdf içinden çıkarılan topic sayısı: 5\n",
      "🔍 İşleniyor: pdf_folder\\ornek209.pdf\n"
     ]
    },
    {
     "name": "stderr",
     "output_type": "stream",
     "text": [
      "Could get FontBBox from font descriptor because None cannot be parsed as 4 floats\n",
      "Could get FontBBox from font descriptor because None cannot be parsed as 4 floats\n",
      "Could get FontBBox from font descriptor because None cannot be parsed as 4 floats\n",
      "Could get FontBBox from font descriptor because None cannot be parsed as 4 floats\n",
      "Could get FontBBox from font descriptor because None cannot be parsed as 4 floats\n",
      "Could get FontBBox from font descriptor because None cannot be parsed as 4 floats\n",
      "Could get FontBBox from font descriptor because None cannot be parsed as 4 floats\n",
      "Could get FontBBox from font descriptor because None cannot be parsed as 4 floats\n",
      "Could get FontBBox from font descriptor because None cannot be parsed as 4 floats\n",
      "Could get FontBBox from font descriptor because None cannot be parsed as 4 floats\n",
      "Could get FontBBox from font descriptor because None cannot be parsed as 4 floats\n"
     ]
    },
    {
     "name": "stdout",
     "output_type": "stream",
     "text": [
      "📘 ornek209.pdf içinden çıkarılan topic sayısı: 18\n",
      "🔍 İşleniyor: pdf_folder\\ornek21.pdf\n",
      "📘 ornek21.pdf içinden çıkarılan topic sayısı: 172\n",
      "🔍 İşleniyor: pdf_folder\\ornek210.pdf\n"
     ]
    },
    {
     "name": "stderr",
     "output_type": "stream",
     "text": [
      "Could get FontBBox from font descriptor because None cannot be parsed as 4 floats\n",
      "Could get FontBBox from font descriptor because None cannot be parsed as 4 floats\n",
      "Could get FontBBox from font descriptor because None cannot be parsed as 4 floats\n",
      "Could get FontBBox from font descriptor because None cannot be parsed as 4 floats\n",
      "Could get FontBBox from font descriptor because None cannot be parsed as 4 floats\n",
      "Could get FontBBox from font descriptor because None cannot be parsed as 4 floats\n",
      "Could get FontBBox from font descriptor because None cannot be parsed as 4 floats\n",
      "Could get FontBBox from font descriptor because None cannot be parsed as 4 floats\n",
      "Could get FontBBox from font descriptor because None cannot be parsed as 4 floats\n",
      "Could get FontBBox from font descriptor because None cannot be parsed as 4 floats\n",
      "Could get FontBBox from font descriptor because None cannot be parsed as 4 floats\n",
      "Could get FontBBox from font descriptor because None cannot be parsed as 4 floats\n"
     ]
    },
    {
     "name": "stdout",
     "output_type": "stream",
     "text": [
      "📘 ornek210.pdf içinden çıkarılan topic sayısı: 201\n",
      "🔍 İşleniyor: pdf_folder\\ornek211.pdf\n"
     ]
    },
    {
     "name": "stderr",
     "output_type": "stream",
     "text": [
      "Could get FontBBox from font descriptor because None cannot be parsed as 4 floats\n",
      "Could get FontBBox from font descriptor because None cannot be parsed as 4 floats\n",
      "Could get FontBBox from font descriptor because None cannot be parsed as 4 floats\n",
      "Could get FontBBox from font descriptor because None cannot be parsed as 4 floats\n",
      "Could get FontBBox from font descriptor because None cannot be parsed as 4 floats\n"
     ]
    },
    {
     "name": "stdout",
     "output_type": "stream",
     "text": [
      "📘 ornek211.pdf içinden çıkarılan topic sayısı: 67\n",
      "🔍 İşleniyor: pdf_folder\\ornek212.pdf\n"
     ]
    },
    {
     "name": "stderr",
     "output_type": "stream",
     "text": [
      "Could get FontBBox from font descriptor because None cannot be parsed as 4 floats\n",
      "Could get FontBBox from font descriptor because None cannot be parsed as 4 floats\n",
      "Could get FontBBox from font descriptor because None cannot be parsed as 4 floats\n",
      "Could get FontBBox from font descriptor because None cannot be parsed as 4 floats\n",
      "Could get FontBBox from font descriptor because None cannot be parsed as 4 floats\n",
      "Could get FontBBox from font descriptor because None cannot be parsed as 4 floats\n",
      "Could get FontBBox from font descriptor because None cannot be parsed as 4 floats\n",
      "Could get FontBBox from font descriptor because None cannot be parsed as 4 floats\n",
      "Could get FontBBox from font descriptor because None cannot be parsed as 4 floats\n",
      "Could get FontBBox from font descriptor because None cannot be parsed as 4 floats\n",
      "Could get FontBBox from font descriptor because None cannot be parsed as 4 floats\n",
      "Could get FontBBox from font descriptor because None cannot be parsed as 4 floats\n",
      "Could get FontBBox from font descriptor because None cannot be parsed as 4 floats\n",
      "Could get FontBBox from font descriptor because None cannot be parsed as 4 floats\n",
      "Could get FontBBox from font descriptor because None cannot be parsed as 4 floats\n",
      "Could get FontBBox from font descriptor because None cannot be parsed as 4 floats\n"
     ]
    },
    {
     "name": "stdout",
     "output_type": "stream",
     "text": [
      "📘 ornek212.pdf içinden çıkarılan topic sayısı: 82\n",
      "🔍 İşleniyor: pdf_folder\\ornek213.pdf\n",
      "📘 ornek213.pdf içinden çıkarılan topic sayısı: 10\n",
      "🔍 İşleniyor: pdf_folder\\ornek214.pdf\n"
     ]
    },
    {
     "name": "stderr",
     "output_type": "stream",
     "text": [
      "Could get FontBBox from font descriptor because None cannot be parsed as 4 floats\n",
      "Could get FontBBox from font descriptor because None cannot be parsed as 4 floats\n",
      "Could get FontBBox from font descriptor because None cannot be parsed as 4 floats\n",
      "Could get FontBBox from font descriptor because None cannot be parsed as 4 floats\n",
      "Could get FontBBox from font descriptor because None cannot be parsed as 4 floats\n",
      "Could get FontBBox from font descriptor because None cannot be parsed as 4 floats\n",
      "Could get FontBBox from font descriptor because None cannot be parsed as 4 floats\n",
      "Could get FontBBox from font descriptor because None cannot be parsed as 4 floats\n",
      "Could get FontBBox from font descriptor because None cannot be parsed as 4 floats\n",
      "Could get FontBBox from font descriptor because None cannot be parsed as 4 floats\n"
     ]
    },
    {
     "name": "stdout",
     "output_type": "stream",
     "text": [
      "📘 ornek214.pdf içinden çıkarılan topic sayısı: 5\n",
      "🔍 İşleniyor: pdf_folder\\ornek215.pdf\n"
     ]
    },
    {
     "name": "stderr",
     "output_type": "stream",
     "text": [
      "Could get FontBBox from font descriptor because None cannot be parsed as 4 floats\n",
      "Could get FontBBox from font descriptor because None cannot be parsed as 4 floats\n"
     ]
    },
    {
     "name": "stdout",
     "output_type": "stream",
     "text": [
      "📘 ornek215.pdf içinden çıkarılan topic sayısı: 15\n",
      "🔍 İşleniyor: pdf_folder\\ornek216.pdf\n"
     ]
    },
    {
     "name": "stderr",
     "output_type": "stream",
     "text": [
      "Could get FontBBox from font descriptor because None cannot be parsed as 4 floats\n",
      "Could get FontBBox from font descriptor because None cannot be parsed as 4 floats\n",
      "Could get FontBBox from font descriptor because None cannot be parsed as 4 floats\n",
      "Could get FontBBox from font descriptor because None cannot be parsed as 4 floats\n",
      "Could get FontBBox from font descriptor because None cannot be parsed as 4 floats\n",
      "Could get FontBBox from font descriptor because None cannot be parsed as 4 floats\n",
      "Could get FontBBox from font descriptor because None cannot be parsed as 4 floats\n",
      "Could get FontBBox from font descriptor because None cannot be parsed as 4 floats\n",
      "Could get FontBBox from font descriptor because None cannot be parsed as 4 floats\n",
      "Could get FontBBox from font descriptor because None cannot be parsed as 4 floats\n",
      "Could get FontBBox from font descriptor because None cannot be parsed as 4 floats\n",
      "Could get FontBBox from font descriptor because None cannot be parsed as 4 floats\n",
      "Could get FontBBox from font descriptor because None cannot be parsed as 4 floats\n",
      "Could get FontBBox from font descriptor because None cannot be parsed as 4 floats\n",
      "Could get FontBBox from font descriptor because None cannot be parsed as 4 floats\n"
     ]
    },
    {
     "name": "stdout",
     "output_type": "stream",
     "text": [
      "📘 ornek216.pdf içinden çıkarılan topic sayısı: 42\n",
      "🔍 İşleniyor: pdf_folder\\ornek217.pdf\n"
     ]
    },
    {
     "name": "stderr",
     "output_type": "stream",
     "text": [
      "Could get FontBBox from font descriptor because None cannot be parsed as 4 floats\n",
      "Could get FontBBox from font descriptor because None cannot be parsed as 4 floats\n",
      "Could get FontBBox from font descriptor because None cannot be parsed as 4 floats\n",
      "Could get FontBBox from font descriptor because None cannot be parsed as 4 floats\n",
      "Could get FontBBox from font descriptor because None cannot be parsed as 4 floats\n"
     ]
    },
    {
     "name": "stdout",
     "output_type": "stream",
     "text": [
      "📘 ornek217.pdf içinden çıkarılan topic sayısı: 13\n",
      "🔍 İşleniyor: pdf_folder\\ornek218.pdf\n"
     ]
    },
    {
     "name": "stderr",
     "output_type": "stream",
     "text": [
      "Could get FontBBox from font descriptor because None cannot be parsed as 4 floats\n",
      "Could get FontBBox from font descriptor because None cannot be parsed as 4 floats\n",
      "Could get FontBBox from font descriptor because None cannot be parsed as 4 floats\n",
      "Could get FontBBox from font descriptor because None cannot be parsed as 4 floats\n",
      "Could get FontBBox from font descriptor because None cannot be parsed as 4 floats\n",
      "Could get FontBBox from font descriptor because None cannot be parsed as 4 floats\n",
      "Could get FontBBox from font descriptor because None cannot be parsed as 4 floats\n",
      "Could get FontBBox from font descriptor because None cannot be parsed as 4 floats\n",
      "Could get FontBBox from font descriptor because None cannot be parsed as 4 floats\n",
      "Could get FontBBox from font descriptor because None cannot be parsed as 4 floats\n",
      "Could get FontBBox from font descriptor because None cannot be parsed as 4 floats\n",
      "Could get FontBBox from font descriptor because None cannot be parsed as 4 floats\n",
      "Could get FontBBox from font descriptor because None cannot be parsed as 4 floats\n",
      "Could get FontBBox from font descriptor because None cannot be parsed as 4 floats\n",
      "Could get FontBBox from font descriptor because None cannot be parsed as 4 floats\n",
      "Could get FontBBox from font descriptor because None cannot be parsed as 4 floats\n"
     ]
    },
    {
     "name": "stdout",
     "output_type": "stream",
     "text": [
      "📘 ornek218.pdf içinden çıkarılan topic sayısı: 52\n",
      "🔍 İşleniyor: pdf_folder\\ornek219.pdf\n"
     ]
    },
    {
     "name": "stderr",
     "output_type": "stream",
     "text": [
      "Could get FontBBox from font descriptor because None cannot be parsed as 4 floats\n"
     ]
    },
    {
     "name": "stdout",
     "output_type": "stream",
     "text": [
      "📘 ornek219.pdf içinden çıkarılan topic sayısı: 7\n",
      "🔍 İşleniyor: pdf_folder\\ornek22.pdf\n",
      "📘 ornek22.pdf içinden çıkarılan topic sayısı: 221\n",
      "🔍 İşleniyor: pdf_folder\\ornek220.pdf\n"
     ]
    },
    {
     "name": "stderr",
     "output_type": "stream",
     "text": [
      "Could get FontBBox from font descriptor because None cannot be parsed as 4 floats\n",
      "Could get FontBBox from font descriptor because None cannot be parsed as 4 floats\n",
      "Could get FontBBox from font descriptor because None cannot be parsed as 4 floats\n",
      "Could get FontBBox from font descriptor because None cannot be parsed as 4 floats\n",
      "Could get FontBBox from font descriptor because None cannot be parsed as 4 floats\n",
      "Could get FontBBox from font descriptor because None cannot be parsed as 4 floats\n",
      "Could get FontBBox from font descriptor because None cannot be parsed as 4 floats\n",
      "Could get FontBBox from font descriptor because None cannot be parsed as 4 floats\n",
      "Could get FontBBox from font descriptor because None cannot be parsed as 4 floats\n",
      "Could get FontBBox from font descriptor because None cannot be parsed as 4 floats\n",
      "Could get FontBBox from font descriptor because None cannot be parsed as 4 floats\n",
      "Could get FontBBox from font descriptor because None cannot be parsed as 4 floats\n",
      "Could get FontBBox from font descriptor because None cannot be parsed as 4 floats\n",
      "Could get FontBBox from font descriptor because None cannot be parsed as 4 floats\n"
     ]
    },
    {
     "name": "stdout",
     "output_type": "stream",
     "text": [
      "📘 ornek220.pdf içinden çıkarılan topic sayısı: 83\n",
      "🔍 İşleniyor: pdf_folder\\ornek221.pdf\n",
      "📘 ornek221.pdf içinden çıkarılan topic sayısı: 3\n",
      "🔍 İşleniyor: pdf_folder\\ornek222.pdf\n",
      "📘 ornek222.pdf içinden çıkarılan topic sayısı: 25\n",
      "🔍 İşleniyor: pdf_folder\\ornek223.pdf\n"
     ]
    },
    {
     "name": "stderr",
     "output_type": "stream",
     "text": [
      "Could get FontBBox from font descriptor because None cannot be parsed as 4 floats\n",
      "Could get FontBBox from font descriptor because None cannot be parsed as 4 floats\n",
      "Could get FontBBox from font descriptor because None cannot be parsed as 4 floats\n"
     ]
    },
    {
     "name": "stdout",
     "output_type": "stream",
     "text": [
      "📘 ornek223.pdf içinden çıkarılan topic sayısı: 20\n",
      "🔍 İşleniyor: pdf_folder\\ornek224.pdf\n"
     ]
    },
    {
     "name": "stderr",
     "output_type": "stream",
     "text": [
      "Could get FontBBox from font descriptor because None cannot be parsed as 4 floats\n",
      "Could get FontBBox from font descriptor because None cannot be parsed as 4 floats\n",
      "Could get FontBBox from font descriptor because None cannot be parsed as 4 floats\n",
      "Could get FontBBox from font descriptor because None cannot be parsed as 4 floats\n"
     ]
    },
    {
     "name": "stdout",
     "output_type": "stream",
     "text": [
      "📘 ornek224.pdf içinden çıkarılan topic sayısı: 20\n",
      "🔍 İşleniyor: pdf_folder\\ornek225.pdf\n"
     ]
    },
    {
     "name": "stderr",
     "output_type": "stream",
     "text": [
      "Could get FontBBox from font descriptor because None cannot be parsed as 4 floats\n",
      "Could get FontBBox from font descriptor because None cannot be parsed as 4 floats\n",
      "Could get FontBBox from font descriptor because None cannot be parsed as 4 floats\n",
      "Could get FontBBox from font descriptor because None cannot be parsed as 4 floats\n",
      "Could get FontBBox from font descriptor because None cannot be parsed as 4 floats\n",
      "Could get FontBBox from font descriptor because None cannot be parsed as 4 floats\n",
      "Could get FontBBox from font descriptor because None cannot be parsed as 4 floats\n"
     ]
    },
    {
     "name": "stdout",
     "output_type": "stream",
     "text": [
      "📘 ornek225.pdf içinden çıkarılan topic sayısı: 105\n",
      "🔍 İşleniyor: pdf_folder\\ornek226.pdf\n"
     ]
    },
    {
     "name": "stderr",
     "output_type": "stream",
     "text": [
      "Could get FontBBox from font descriptor because None cannot be parsed as 4 floats\n",
      "Could get FontBBox from font descriptor because None cannot be parsed as 4 floats\n",
      "Could get FontBBox from font descriptor because None cannot be parsed as 4 floats\n",
      "Could get FontBBox from font descriptor because None cannot be parsed as 4 floats\n"
     ]
    },
    {
     "name": "stdout",
     "output_type": "stream",
     "text": [
      "📘 ornek226.pdf içinden çıkarılan topic sayısı: 46\n",
      "🔍 İşleniyor: pdf_folder\\ornek227.pdf\n"
     ]
    },
    {
     "name": "stderr",
     "output_type": "stream",
     "text": [
      "Could get FontBBox from font descriptor because None cannot be parsed as 4 floats\n",
      "Could get FontBBox from font descriptor because None cannot be parsed as 4 floats\n"
     ]
    },
    {
     "name": "stdout",
     "output_type": "stream",
     "text": [
      "📘 ornek227.pdf içinden çıkarılan topic sayısı: 48\n",
      "🔍 İşleniyor: pdf_folder\\ornek228.pdf\n"
     ]
    },
    {
     "name": "stderr",
     "output_type": "stream",
     "text": [
      "Could get FontBBox from font descriptor because None cannot be parsed as 4 floats\n",
      "Could get FontBBox from font descriptor because None cannot be parsed as 4 floats\n",
      "Could get FontBBox from font descriptor because None cannot be parsed as 4 floats\n"
     ]
    },
    {
     "name": "stdout",
     "output_type": "stream",
     "text": [
      "📘 ornek228.pdf içinden çıkarılan topic sayısı: 49\n",
      "🔍 İşleniyor: pdf_folder\\ornek229.pdf\n"
     ]
    },
    {
     "name": "stderr",
     "output_type": "stream",
     "text": [
      "Could get FontBBox from font descriptor because None cannot be parsed as 4 floats\n",
      "Could get FontBBox from font descriptor because None cannot be parsed as 4 floats\n",
      "Could get FontBBox from font descriptor because None cannot be parsed as 4 floats\n",
      "Could get FontBBox from font descriptor because None cannot be parsed as 4 floats\n"
     ]
    },
    {
     "name": "stdout",
     "output_type": "stream",
     "text": [
      "📘 ornek229.pdf içinden çıkarılan topic sayısı: 19\n",
      "🔍 İşleniyor: pdf_folder\\ornek23.pdf\n"
     ]
    },
    {
     "name": "stderr",
     "output_type": "stream",
     "text": [
      "Could get FontBBox from font descriptor because None cannot be parsed as 4 floats\n"
     ]
    },
    {
     "name": "stdout",
     "output_type": "stream",
     "text": [
      "📘 ornek23.pdf içinden çıkarılan topic sayısı: 42\n",
      "🔍 İşleniyor: pdf_folder\\ornek230.pdf\n"
     ]
    },
    {
     "name": "stderr",
     "output_type": "stream",
     "text": [
      "Could get FontBBox from font descriptor because None cannot be parsed as 4 floats\n"
     ]
    },
    {
     "name": "stdout",
     "output_type": "stream",
     "text": [
      "📘 ornek230.pdf içinden çıkarılan topic sayısı: 10\n",
      "🔍 İşleniyor: pdf_folder\\ornek231.pdf\n"
     ]
    },
    {
     "name": "stderr",
     "output_type": "stream",
     "text": [
      "Could get FontBBox from font descriptor because None cannot be parsed as 4 floats\n",
      "Could get FontBBox from font descriptor because None cannot be parsed as 4 floats\n",
      "Could get FontBBox from font descriptor because None cannot be parsed as 4 floats\n",
      "Could get FontBBox from font descriptor because None cannot be parsed as 4 floats\n"
     ]
    },
    {
     "name": "stdout",
     "output_type": "stream",
     "text": [
      "📘 ornek231.pdf içinden çıkarılan topic sayısı: 27\n",
      "🔍 İşleniyor: pdf_folder\\ornek232.pdf\n"
     ]
    },
    {
     "name": "stderr",
     "output_type": "stream",
     "text": [
      "Could get FontBBox from font descriptor because None cannot be parsed as 4 floats\n",
      "Could get FontBBox from font descriptor because None cannot be parsed as 4 floats\n",
      "Could get FontBBox from font descriptor because None cannot be parsed as 4 floats\n"
     ]
    },
    {
     "name": "stdout",
     "output_type": "stream",
     "text": [
      "📘 ornek232.pdf içinden çıkarılan topic sayısı: 6\n",
      "🔍 İşleniyor: pdf_folder\\ornek233.pdf\n",
      "📘 ornek233.pdf içinden çıkarılan topic sayısı: 4\n",
      "🔍 İşleniyor: pdf_folder\\ornek234.pdf\n"
     ]
    },
    {
     "name": "stderr",
     "output_type": "stream",
     "text": [
      "Could get FontBBox from font descriptor because None cannot be parsed as 4 floats\n",
      "Could get FontBBox from font descriptor because None cannot be parsed as 4 floats\n"
     ]
    },
    {
     "name": "stdout",
     "output_type": "stream",
     "text": [
      "📘 ornek234.pdf içinden çıkarılan topic sayısı: 5\n",
      "🔍 İşleniyor: pdf_folder\\ornek235.pdf\n"
     ]
    },
    {
     "name": "stderr",
     "output_type": "stream",
     "text": [
      "Could get FontBBox from font descriptor because None cannot be parsed as 4 floats\n",
      "Could get FontBBox from font descriptor because None cannot be parsed as 4 floats\n",
      "Could get FontBBox from font descriptor because None cannot be parsed as 4 floats\n"
     ]
    },
    {
     "name": "stdout",
     "output_type": "stream",
     "text": [
      "📘 ornek235.pdf içinden çıkarılan topic sayısı: 38\n",
      "🔍 İşleniyor: pdf_folder\\ornek236.pdf\n"
     ]
    },
    {
     "name": "stderr",
     "output_type": "stream",
     "text": [
      "Could get FontBBox from font descriptor because None cannot be parsed as 4 floats\n",
      "Could get FontBBox from font descriptor because None cannot be parsed as 4 floats\n",
      "Could get FontBBox from font descriptor because None cannot be parsed as 4 floats\n"
     ]
    },
    {
     "name": "stdout",
     "output_type": "stream",
     "text": [
      "📘 ornek236.pdf içinden çıkarılan topic sayısı: 19\n",
      "🔍 İşleniyor: pdf_folder\\ornek237.pdf\n"
     ]
    },
    {
     "name": "stderr",
     "output_type": "stream",
     "text": [
      "Could get FontBBox from font descriptor because None cannot be parsed as 4 floats\n",
      "Could get FontBBox from font descriptor because None cannot be parsed as 4 floats\n"
     ]
    },
    {
     "name": "stdout",
     "output_type": "stream",
     "text": [
      "📘 ornek237.pdf içinden çıkarılan topic sayısı: 6\n",
      "🔍 İşleniyor: pdf_folder\\ornek238.pdf\n"
     ]
    },
    {
     "name": "stderr",
     "output_type": "stream",
     "text": [
      "Could get FontBBox from font descriptor because None cannot be parsed as 4 floats\n",
      "Could get FontBBox from font descriptor because None cannot be parsed as 4 floats\n",
      "Could get FontBBox from font descriptor because None cannot be parsed as 4 floats\n"
     ]
    },
    {
     "name": "stdout",
     "output_type": "stream",
     "text": [
      "📘 ornek238.pdf içinden çıkarılan topic sayısı: 52\n",
      "🔍 İşleniyor: pdf_folder\\ornek239.pdf\n"
     ]
    },
    {
     "name": "stderr",
     "output_type": "stream",
     "text": [
      "Could get FontBBox from font descriptor because None cannot be parsed as 4 floats\n",
      "Could get FontBBox from font descriptor because None cannot be parsed as 4 floats\n"
     ]
    },
    {
     "name": "stdout",
     "output_type": "stream",
     "text": [
      "📘 ornek239.pdf içinden çıkarılan topic sayısı: 23\n",
      "🔍 İşleniyor: pdf_folder\\ornek24.pdf\n",
      "📘 ornek24.pdf içinden çıkarılan topic sayısı: 62\n",
      "🔍 İşleniyor: pdf_folder\\ornek240.pdf\n"
     ]
    },
    {
     "name": "stderr",
     "output_type": "stream",
     "text": [
      "Could get FontBBox from font descriptor because None cannot be parsed as 4 floats\n",
      "Could get FontBBox from font descriptor because None cannot be parsed as 4 floats\n",
      "Could get FontBBox from font descriptor because None cannot be parsed as 4 floats\n",
      "Could get FontBBox from font descriptor because None cannot be parsed as 4 floats\n",
      "Could get FontBBox from font descriptor because None cannot be parsed as 4 floats\n",
      "Could get FontBBox from font descriptor because None cannot be parsed as 4 floats\n",
      "Could get FontBBox from font descriptor because None cannot be parsed as 4 floats\n",
      "Could get FontBBox from font descriptor because None cannot be parsed as 4 floats\n"
     ]
    },
    {
     "name": "stdout",
     "output_type": "stream",
     "text": [
      "📘 ornek240.pdf içinden çıkarılan topic sayısı: 80\n",
      "🔍 İşleniyor: pdf_folder\\ornek241.pdf\n"
     ]
    },
    {
     "name": "stderr",
     "output_type": "stream",
     "text": [
      "Could get FontBBox from font descriptor because None cannot be parsed as 4 floats\n",
      "Could get FontBBox from font descriptor because None cannot be parsed as 4 floats\n",
      "Could get FontBBox from font descriptor because None cannot be parsed as 4 floats\n"
     ]
    },
    {
     "name": "stdout",
     "output_type": "stream",
     "text": [
      "📘 ornek241.pdf içinden çıkarılan topic sayısı: 18\n",
      "🔍 İşleniyor: pdf_folder\\ornek242.pdf\n"
     ]
    },
    {
     "name": "stderr",
     "output_type": "stream",
     "text": [
      "Could get FontBBox from font descriptor because None cannot be parsed as 4 floats\n",
      "Could get FontBBox from font descriptor because None cannot be parsed as 4 floats\n",
      "Could get FontBBox from font descriptor because None cannot be parsed as 4 floats\n"
     ]
    },
    {
     "name": "stdout",
     "output_type": "stream",
     "text": [
      "📘 ornek242.pdf içinden çıkarılan topic sayısı: 12\n",
      "🔍 İşleniyor: pdf_folder\\ornek243.pdf\n"
     ]
    },
    {
     "name": "stderr",
     "output_type": "stream",
     "text": [
      "Could get FontBBox from font descriptor because None cannot be parsed as 4 floats\n",
      "Could get FontBBox from font descriptor because None cannot be parsed as 4 floats\n",
      "Could get FontBBox from font descriptor because None cannot be parsed as 4 floats\n",
      "Could get FontBBox from font descriptor because None cannot be parsed as 4 floats\n"
     ]
    },
    {
     "name": "stdout",
     "output_type": "stream",
     "text": [
      "📘 ornek243.pdf içinden çıkarılan topic sayısı: 9\n",
      "🔍 İşleniyor: pdf_folder\\ornek244.pdf\n"
     ]
    },
    {
     "name": "stderr",
     "output_type": "stream",
     "text": [
      "Could get FontBBox from font descriptor because None cannot be parsed as 4 floats\n",
      "Could get FontBBox from font descriptor because None cannot be parsed as 4 floats\n",
      "Could get FontBBox from font descriptor because None cannot be parsed as 4 floats\n"
     ]
    },
    {
     "name": "stdout",
     "output_type": "stream",
     "text": [
      "📘 ornek244.pdf içinden çıkarılan topic sayısı: 4\n",
      "🔍 İşleniyor: pdf_folder\\ornek245.pdf\n",
      "📘 ornek245.pdf içinden çıkarılan topic sayısı: 6\n",
      "🔍 İşleniyor: pdf_folder\\ornek246.pdf\n"
     ]
    },
    {
     "name": "stderr",
     "output_type": "stream",
     "text": [
      "Could get FontBBox from font descriptor because None cannot be parsed as 4 floats\n",
      "Could get FontBBox from font descriptor because None cannot be parsed as 4 floats\n",
      "Could get FontBBox from font descriptor because None cannot be parsed as 4 floats\n",
      "Could get FontBBox from font descriptor because None cannot be parsed as 4 floats\n",
      "Could get FontBBox from font descriptor because None cannot be parsed as 4 floats\n",
      "Could get FontBBox from font descriptor because None cannot be parsed as 4 floats\n",
      "Could get FontBBox from font descriptor because None cannot be parsed as 4 floats\n",
      "Could get FontBBox from font descriptor because None cannot be parsed as 4 floats\n",
      "Could get FontBBox from font descriptor because None cannot be parsed as 4 floats\n",
      "Could get FontBBox from font descriptor because None cannot be parsed as 4 floats\n"
     ]
    },
    {
     "name": "stdout",
     "output_type": "stream",
     "text": [
      "📘 ornek246.pdf içinden çıkarılan topic sayısı: 82\n",
      "🔍 İşleniyor: pdf_folder\\ornek247.pdf\n"
     ]
    },
    {
     "name": "stderr",
     "output_type": "stream",
     "text": [
      "Could get FontBBox from font descriptor because None cannot be parsed as 4 floats\n",
      "Could get FontBBox from font descriptor because None cannot be parsed as 4 floats\n",
      "Could get FontBBox from font descriptor because None cannot be parsed as 4 floats\n",
      "Could get FontBBox from font descriptor because None cannot be parsed as 4 floats\n",
      "Could get FontBBox from font descriptor because None cannot be parsed as 4 floats\n",
      "Could get FontBBox from font descriptor because None cannot be parsed as 4 floats\n",
      "Could get FontBBox from font descriptor because None cannot be parsed as 4 floats\n",
      "Could get FontBBox from font descriptor because None cannot be parsed as 4 floats\n",
      "Could get FontBBox from font descriptor because None cannot be parsed as 4 floats\n",
      "Could get FontBBox from font descriptor because None cannot be parsed as 4 floats\n",
      "Could get FontBBox from font descriptor because None cannot be parsed as 4 floats\n",
      "Could get FontBBox from font descriptor because None cannot be parsed as 4 floats\n",
      "Could get FontBBox from font descriptor because None cannot be parsed as 4 floats\n"
     ]
    },
    {
     "name": "stdout",
     "output_type": "stream",
     "text": [
      "📘 ornek247.pdf içinden çıkarılan topic sayısı: 18\n",
      "🔍 İşleniyor: pdf_folder\\ornek248.pdf\n"
     ]
    },
    {
     "name": "stderr",
     "output_type": "stream",
     "text": [
      "Could get FontBBox from font descriptor because None cannot be parsed as 4 floats\n",
      "Could get FontBBox from font descriptor because None cannot be parsed as 4 floats\n",
      "Could get FontBBox from font descriptor because None cannot be parsed as 4 floats\n",
      "Could get FontBBox from font descriptor because None cannot be parsed as 4 floats\n",
      "Could get FontBBox from font descriptor because None cannot be parsed as 4 floats\n",
      "Could get FontBBox from font descriptor because None cannot be parsed as 4 floats\n",
      "Could get FontBBox from font descriptor because None cannot be parsed as 4 floats\n",
      "Could get FontBBox from font descriptor because None cannot be parsed as 4 floats\n",
      "Could get FontBBox from font descriptor because None cannot be parsed as 4 floats\n",
      "Could get FontBBox from font descriptor because None cannot be parsed as 4 floats\n",
      "Could get FontBBox from font descriptor because None cannot be parsed as 4 floats\n",
      "Could get FontBBox from font descriptor because None cannot be parsed as 4 floats\n",
      "Could get FontBBox from font descriptor because None cannot be parsed as 4 floats\n",
      "Could get FontBBox from font descriptor because None cannot be parsed as 4 floats\n",
      "Could get FontBBox from font descriptor because None cannot be parsed as 4 floats\n"
     ]
    },
    {
     "name": "stdout",
     "output_type": "stream",
     "text": [
      "📘 ornek248.pdf içinden çıkarılan topic sayısı: 164\n",
      "🔍 İşleniyor: pdf_folder\\ornek249.pdf\n",
      "📘 ornek249.pdf içinden çıkarılan topic sayısı: 10\n",
      "🔍 İşleniyor: pdf_folder\\ornek25.pdf\n",
      "📘 ornek25.pdf içinden çıkarılan topic sayısı: 512\n",
      "🔍 İşleniyor: pdf_folder\\ornek250.pdf\n"
     ]
    },
    {
     "name": "stderr",
     "output_type": "stream",
     "text": [
      "Could get FontBBox from font descriptor because None cannot be parsed as 4 floats\n",
      "Could get FontBBox from font descriptor because None cannot be parsed as 4 floats\n",
      "Could get FontBBox from font descriptor because None cannot be parsed as 4 floats\n",
      "Could get FontBBox from font descriptor because None cannot be parsed as 4 floats\n",
      "Could get FontBBox from font descriptor because None cannot be parsed as 4 floats\n",
      "Could get FontBBox from font descriptor because None cannot be parsed as 4 floats\n",
      "Could get FontBBox from font descriptor because None cannot be parsed as 4 floats\n",
      "Could get FontBBox from font descriptor because None cannot be parsed as 4 floats\n",
      "Could get FontBBox from font descriptor because None cannot be parsed as 4 floats\n"
     ]
    },
    {
     "name": "stdout",
     "output_type": "stream",
     "text": [
      "📘 ornek250.pdf içinden çıkarılan topic sayısı: 114\n",
      "🔍 İşleniyor: pdf_folder\\ornek251.pdf\n"
     ]
    },
    {
     "name": "stderr",
     "output_type": "stream",
     "text": [
      "Could get FontBBox from font descriptor because None cannot be parsed as 4 floats\n",
      "Could get FontBBox from font descriptor because None cannot be parsed as 4 floats\n",
      "Could get FontBBox from font descriptor because None cannot be parsed as 4 floats\n",
      "Could get FontBBox from font descriptor because None cannot be parsed as 4 floats\n",
      "Could get FontBBox from font descriptor because None cannot be parsed as 4 floats\n",
      "Could get FontBBox from font descriptor because None cannot be parsed as 4 floats\n",
      "Could get FontBBox from font descriptor because None cannot be parsed as 4 floats\n",
      "Could get FontBBox from font descriptor because None cannot be parsed as 4 floats\n",
      "Could get FontBBox from font descriptor because None cannot be parsed as 4 floats\n",
      "Could get FontBBox from font descriptor because None cannot be parsed as 4 floats\n"
     ]
    },
    {
     "name": "stdout",
     "output_type": "stream",
     "text": [
      "📘 ornek251.pdf içinden çıkarılan topic sayısı: 47\n",
      "🔍 İşleniyor: pdf_folder\\ornek252.pdf\n"
     ]
    },
    {
     "name": "stderr",
     "output_type": "stream",
     "text": [
      "Could get FontBBox from font descriptor because None cannot be parsed as 4 floats\n",
      "Could get FontBBox from font descriptor because None cannot be parsed as 4 floats\n",
      "Could get FontBBox from font descriptor because None cannot be parsed as 4 floats\n",
      "Could get FontBBox from font descriptor because None cannot be parsed as 4 floats\n",
      "Could get FontBBox from font descriptor because None cannot be parsed as 4 floats\n",
      "Could get FontBBox from font descriptor because None cannot be parsed as 4 floats\n",
      "Could get FontBBox from font descriptor because None cannot be parsed as 4 floats\n",
      "Could get FontBBox from font descriptor because None cannot be parsed as 4 floats\n",
      "Could get FontBBox from font descriptor because None cannot be parsed as 4 floats\n",
      "Could get FontBBox from font descriptor because None cannot be parsed as 4 floats\n",
      "Could get FontBBox from font descriptor because None cannot be parsed as 4 floats\n"
     ]
    },
    {
     "name": "stdout",
     "output_type": "stream",
     "text": [
      "📘 ornek252.pdf içinden çıkarılan topic sayısı: 148\n",
      "🔍 İşleniyor: pdf_folder\\ornek253.pdf\n"
     ]
    },
    {
     "name": "stderr",
     "output_type": "stream",
     "text": [
      "Could get FontBBox from font descriptor because None cannot be parsed as 4 floats\n",
      "Could get FontBBox from font descriptor because None cannot be parsed as 4 floats\n",
      "Could get FontBBox from font descriptor because None cannot be parsed as 4 floats\n",
      "Could get FontBBox from font descriptor because None cannot be parsed as 4 floats\n",
      "Could get FontBBox from font descriptor because None cannot be parsed as 4 floats\n"
     ]
    },
    {
     "name": "stdout",
     "output_type": "stream",
     "text": [
      "📘 ornek253.pdf içinden çıkarılan topic sayısı: 19\n",
      "🔍 İşleniyor: pdf_folder\\ornek254.pdf\n"
     ]
    },
    {
     "name": "stderr",
     "output_type": "stream",
     "text": [
      "Could get FontBBox from font descriptor because None cannot be parsed as 4 floats\n",
      "Could get FontBBox from font descriptor because None cannot be parsed as 4 floats\n",
      "Could get FontBBox from font descriptor because None cannot be parsed as 4 floats\n",
      "Could get FontBBox from font descriptor because None cannot be parsed as 4 floats\n",
      "Could get FontBBox from font descriptor because None cannot be parsed as 4 floats\n",
      "Could get FontBBox from font descriptor because None cannot be parsed as 4 floats\n"
     ]
    },
    {
     "name": "stdout",
     "output_type": "stream",
     "text": [
      "📘 ornek254.pdf içinden çıkarılan topic sayısı: 44\n",
      "🔍 İşleniyor: pdf_folder\\ornek255.pdf\n"
     ]
    },
    {
     "name": "stderr",
     "output_type": "stream",
     "text": [
      "Could get FontBBox from font descriptor because None cannot be parsed as 4 floats\n",
      "Could get FontBBox from font descriptor because None cannot be parsed as 4 floats\n",
      "Could get FontBBox from font descriptor because None cannot be parsed as 4 floats\n",
      "Could get FontBBox from font descriptor because None cannot be parsed as 4 floats\n",
      "Could get FontBBox from font descriptor because None cannot be parsed as 4 floats\n",
      "Could get FontBBox from font descriptor because None cannot be parsed as 4 floats\n",
      "Could get FontBBox from font descriptor because None cannot be parsed as 4 floats\n",
      "Could get FontBBox from font descriptor because None cannot be parsed as 4 floats\n"
     ]
    },
    {
     "name": "stdout",
     "output_type": "stream",
     "text": [
      "📘 ornek255.pdf içinden çıkarılan topic sayısı: 57\n",
      "🔍 İşleniyor: pdf_folder\\ornek256.pdf\n"
     ]
    },
    {
     "name": "stderr",
     "output_type": "stream",
     "text": [
      "Could get FontBBox from font descriptor because None cannot be parsed as 4 floats\n",
      "Could get FontBBox from font descriptor because None cannot be parsed as 4 floats\n",
      "Could get FontBBox from font descriptor because None cannot be parsed as 4 floats\n"
     ]
    },
    {
     "name": "stdout",
     "output_type": "stream",
     "text": [
      "📘 ornek256.pdf içinden çıkarılan topic sayısı: 27\n",
      "🔍 İşleniyor: pdf_folder\\ornek257.pdf\n",
      "📘 ornek257.pdf içinden çıkarılan topic sayısı: 6\n",
      "🔍 İşleniyor: pdf_folder\\ornek258.pdf\n",
      "📘 ornek258.pdf içinden çıkarılan topic sayısı: 9\n",
      "🔍 İşleniyor: pdf_folder\\ornek259.pdf\n",
      "📘 ornek259.pdf içinden çıkarılan topic sayısı: 123\n",
      "🔍 İşleniyor: pdf_folder\\ornek26.pdf\n",
      "📘 ornek26.pdf içinden çıkarılan topic sayısı: 1398\n",
      "🔍 İşleniyor: pdf_folder\\ornek260.pdf\n",
      "📘 ornek260.pdf içinden çıkarılan topic sayısı: 5\n",
      "🔍 İşleniyor: pdf_folder\\ornek261.pdf\n"
     ]
    },
    {
     "name": "stderr",
     "output_type": "stream",
     "text": [
      "Could get FontBBox from font descriptor because None cannot be parsed as 4 floats\n",
      "Could get FontBBox from font descriptor because None cannot be parsed as 4 floats\n",
      "Could get FontBBox from font descriptor because None cannot be parsed as 4 floats\n",
      "Could get FontBBox from font descriptor because None cannot be parsed as 4 floats\n",
      "Could get FontBBox from font descriptor because None cannot be parsed as 4 floats\n"
     ]
    },
    {
     "name": "stdout",
     "output_type": "stream",
     "text": [
      "📘 ornek261.pdf içinden çıkarılan topic sayısı: 95\n",
      "🔍 İşleniyor: pdf_folder\\ornek262.pdf\n",
      "📘 ornek262.pdf içinden çıkarılan topic sayısı: 26\n",
      "🔍 İşleniyor: pdf_folder\\ornek263.pdf\n",
      "📘 ornek263.pdf içinden çıkarılan topic sayısı: 145\n",
      "🔍 İşleniyor: pdf_folder\\ornek264.pdf\n",
      "📘 ornek264.pdf içinden çıkarılan topic sayısı: 727\n",
      "🔍 İşleniyor: pdf_folder\\ornek265.pdf\n",
      "📘 ornek265.pdf içinden çıkarılan topic sayısı: 21\n",
      "🔍 İşleniyor: pdf_folder\\ornek266.pdf\n",
      "📘 ornek266.pdf içinden çıkarılan topic sayısı: 26\n",
      "🔍 İşleniyor: pdf_folder\\ornek267.pdf\n",
      "📘 ornek267.pdf içinden çıkarılan topic sayısı: 31\n",
      "🔍 İşleniyor: pdf_folder\\ornek268.pdf\n",
      "📘 ornek268.pdf içinden çıkarılan topic sayısı: 950\n",
      "🔍 İşleniyor: pdf_folder\\ornek269.pdf\n",
      "📘 ornek269.pdf içinden çıkarılan topic sayısı: 213\n",
      "🔍 İşleniyor: pdf_folder\\ornek27.pdf\n",
      "📘 ornek27.pdf içinden çıkarılan topic sayısı: 1065\n",
      "🔍 İşleniyor: pdf_folder\\ornek270.pdf\n",
      "📘 ornek270.pdf içinden çıkarılan topic sayısı: 35\n",
      "🔍 İşleniyor: pdf_folder\\ornek271.pdf\n",
      "📘 ornek271.pdf içinden çıkarılan topic sayısı: 2\n",
      "🔍 İşleniyor: pdf_folder\\ornek272.pdf\n",
      "📘 ornek272.pdf içinden çıkarılan topic sayısı: 16\n",
      "🔍 İşleniyor: pdf_folder\\ornek273.pdf\n",
      "📘 ornek273.pdf içinden çıkarılan topic sayısı: 18\n",
      "🔍 İşleniyor: pdf_folder\\ornek274.pdf\n",
      "📘 ornek274.pdf içinden çıkarılan topic sayısı: 71\n",
      "🔍 İşleniyor: pdf_folder\\ornek275.pdf\n",
      "📘 ornek275.pdf içinden çıkarılan topic sayısı: 74\n",
      "🔍 İşleniyor: pdf_folder\\ornek276.pdf\n",
      "📘 ornek276.pdf içinden çıkarılan topic sayısı: 166\n",
      "🔍 İşleniyor: pdf_folder\\ornek277.pdf\n",
      "📘 ornek277.pdf içinden çıkarılan topic sayısı: 44\n",
      "🔍 İşleniyor: pdf_folder\\ornek278.pdf\n",
      "📘 ornek278.pdf içinden çıkarılan topic sayısı: 49\n",
      "🔍 İşleniyor: pdf_folder\\ornek279.pdf\n",
      "📘 ornek279.pdf içinden çıkarılan topic sayısı: 47\n",
      "🔍 İşleniyor: pdf_folder\\ornek28.pdf\n",
      "📘 ornek28.pdf içinden çıkarılan topic sayısı: 20\n",
      "🔍 İşleniyor: pdf_folder\\ornek280.pdf\n",
      "📘 ornek280.pdf içinden çıkarılan topic sayısı: 42\n",
      "🔍 İşleniyor: pdf_folder\\ornek281.pdf\n",
      "📘 ornek281.pdf içinden çıkarılan topic sayısı: 36\n",
      "🔍 İşleniyor: pdf_folder\\ornek282.pdf\n",
      "📘 ornek282.pdf içinden çıkarılan topic sayısı: 71\n",
      "🔍 İşleniyor: pdf_folder\\ornek283.pdf\n",
      "📘 ornek283.pdf içinden çıkarılan topic sayısı: 40\n",
      "🔍 İşleniyor: pdf_folder\\ornek284.pdf\n",
      "📘 ornek284.pdf içinden çıkarılan topic sayısı: 17\n",
      "🔍 İşleniyor: pdf_folder\\ornek285.pdf\n",
      "📘 ornek285.pdf içinden çıkarılan topic sayısı: 68\n",
      "🔍 İşleniyor: pdf_folder\\ornek286.pdf\n",
      "📘 ornek286.pdf içinden çıkarılan topic sayısı: 55\n",
      "🔍 İşleniyor: pdf_folder\\ornek287.pdf\n",
      "📘 ornek287.pdf içinden çıkarılan topic sayısı: 502\n",
      "🔍 İşleniyor: pdf_folder\\ornek288.pdf\n",
      "📘 ornek288.pdf içinden çıkarılan topic sayısı: 20\n",
      "🔍 İşleniyor: pdf_folder\\ornek289.pdf\n",
      "📘 ornek289.pdf içinden çıkarılan topic sayısı: 7\n",
      "🔍 İşleniyor: pdf_folder\\ornek29.pdf\n",
      "📘 ornek29.pdf içinden çıkarılan topic sayısı: 73\n",
      "🔍 İşleniyor: pdf_folder\\ornek290.pdf\n",
      "📘 ornek290.pdf içinden çıkarılan topic sayısı: 6\n",
      "🔍 İşleniyor: pdf_folder\\ornek291.pdf\n",
      "📘 ornek291.pdf içinden çıkarılan topic sayısı: 63\n",
      "🔍 İşleniyor: pdf_folder\\ornek292.pdf\n",
      "📘 ornek292.pdf içinden çıkarılan topic sayısı: 20\n",
      "🔍 İşleniyor: pdf_folder\\ornek293.pdf\n",
      "📘 ornek293.pdf içinden çıkarılan topic sayısı: 60\n",
      "🔍 İşleniyor: pdf_folder\\ornek294.pdf\n",
      "📘 ornek294.pdf içinden çıkarılan topic sayısı: 7\n",
      "🔍 İşleniyor: pdf_folder\\ornek295.pdf\n",
      "📘 ornek295.pdf içinden çıkarılan topic sayısı: 53\n",
      "🔍 İşleniyor: pdf_folder\\ornek296.pdf\n",
      "📘 ornek296.pdf içinden çıkarılan topic sayısı: 10\n",
      "🔍 İşleniyor: pdf_folder\\ornek297.pdf\n",
      "📘 ornek297.pdf içinden çıkarılan topic sayısı: 8\n",
      "🔍 İşleniyor: pdf_folder\\ornek298.pdf\n",
      "📘 ornek298.pdf içinden çıkarılan topic sayısı: 91\n",
      "🔍 İşleniyor: pdf_folder\\ornek299.pdf\n",
      "📘 ornek299.pdf içinden çıkarılan topic sayısı: 9\n",
      "🔍 İşleniyor: pdf_folder\\ornek3.pdf\n",
      "📘 ornek3.pdf içinden çıkarılan topic sayısı: 353\n",
      "🔍 İşleniyor: pdf_folder\\ornek30.pdf\n"
     ]
    },
    {
     "name": "stderr",
     "output_type": "stream",
     "text": [
      "Could get FontBBox from font descriptor because None cannot be parsed as 4 floats\n",
      "Could get FontBBox from font descriptor because None cannot be parsed as 4 floats\n",
      "Could get FontBBox from font descriptor because None cannot be parsed as 4 floats\n",
      "Could get FontBBox from font descriptor because None cannot be parsed as 4 floats\n"
     ]
    },
    {
     "name": "stdout",
     "output_type": "stream",
     "text": [
      "📘 ornek30.pdf içinden çıkarılan topic sayısı: 206\n",
      "🔍 İşleniyor: pdf_folder\\ornek300.pdf\n",
      "📘 ornek300.pdf içinden çıkarılan topic sayısı: 30\n",
      "🔍 İşleniyor: pdf_folder\\ornek301.pdf\n",
      "📘 ornek301.pdf içinden çıkarılan topic sayısı: 78\n",
      "🔍 İşleniyor: pdf_folder\\ornek302.pdf\n",
      "📘 ornek302.pdf içinden çıkarılan topic sayısı: 20\n",
      "🔍 İşleniyor: pdf_folder\\ornek303.pdf\n",
      "📘 ornek303.pdf içinden çıkarılan topic sayısı: 34\n",
      "🔍 İşleniyor: pdf_folder\\ornek304.pdf\n",
      "📘 ornek304.pdf içinden çıkarılan topic sayısı: 84\n",
      "🔍 İşleniyor: pdf_folder\\ornek305.pdf\n",
      "📘 ornek305.pdf içinden çıkarılan topic sayısı: 7\n",
      "🔍 İşleniyor: pdf_folder\\ornek306.pdf\n",
      "📘 ornek306.pdf içinden çıkarılan topic sayısı: 48\n",
      "🔍 İşleniyor: pdf_folder\\ornek307.pdf\n",
      "📘 ornek307.pdf içinden çıkarılan topic sayısı: 24\n",
      "🔍 İşleniyor: pdf_folder\\ornek308.pdf\n",
      "📘 ornek308.pdf içinden çıkarılan topic sayısı: 804\n",
      "🔍 İşleniyor: pdf_folder\\ornek309.pdf\n",
      "📘 ornek309.pdf içinden çıkarılan topic sayısı: 652\n",
      "🔍 İşleniyor: pdf_folder\\ornek31.pdf\n",
      "📘 ornek31.pdf içinden çıkarılan topic sayısı: 1\n",
      "🔍 İşleniyor: pdf_folder\\ornek310.pdf\n",
      "📘 ornek310.pdf içinden çıkarılan topic sayısı: 626\n",
      "🔍 İşleniyor: pdf_folder\\ornek311.pdf\n",
      "📘 ornek311.pdf içinden çıkarılan topic sayısı: 117\n",
      "🔍 İşleniyor: pdf_folder\\ornek312.pdf\n",
      "📘 ornek312.pdf içinden çıkarılan topic sayısı: 454\n",
      "🔍 İşleniyor: pdf_folder\\ornek313.pdf\n",
      "📘 ornek313.pdf içinden çıkarılan topic sayısı: 30\n",
      "🔍 İşleniyor: pdf_folder\\ornek314.pdf\n",
      "📘 ornek314.pdf içinden çıkarılan topic sayısı: 5\n",
      "🔍 İşleniyor: pdf_folder\\ornek315.pdf\n",
      "📘 ornek315.pdf içinden çıkarılan topic sayısı: 185\n",
      "🔍 İşleniyor: pdf_folder\\ornek316.pdf\n",
      "📘 ornek316.pdf içinden çıkarılan topic sayısı: 77\n",
      "🔍 İşleniyor: pdf_folder\\ornek317.pdf\n",
      "📘 ornek317.pdf içinden çıkarılan topic sayısı: 13\n",
      "🔍 İşleniyor: pdf_folder\\ornek318.pdf\n",
      "📘 ornek318.pdf içinden çıkarılan topic sayısı: 40\n",
      "🔍 İşleniyor: pdf_folder\\ornek319.pdf\n",
      "📘 ornek319.pdf içinden çıkarılan topic sayısı: 32\n",
      "🔍 İşleniyor: pdf_folder\\ornek32.pdf\n"
     ]
    },
    {
     "name": "stderr",
     "output_type": "stream",
     "text": [
      "Could get FontBBox from font descriptor because None cannot be parsed as 4 floats\n",
      "Could get FontBBox from font descriptor because None cannot be parsed as 4 floats\n",
      "Could get FontBBox from font descriptor because None cannot be parsed as 4 floats\n",
      "Could get FontBBox from font descriptor because None cannot be parsed as 4 floats\n"
     ]
    },
    {
     "name": "stdout",
     "output_type": "stream",
     "text": [
      "📘 ornek32.pdf içinden çıkarılan topic sayısı: 219\n",
      "🔍 İşleniyor: pdf_folder\\ornek320.pdf\n",
      "📘 ornek320.pdf içinden çıkarılan topic sayısı: 240\n",
      "🔍 İşleniyor: pdf_folder\\ornek321.pdf\n",
      "📘 ornek321.pdf içinden çıkarılan topic sayısı: 25\n",
      "🔍 İşleniyor: pdf_folder\\ornek322.pdf\n",
      "📘 ornek322.pdf içinden çıkarılan topic sayısı: 81\n",
      "🔍 İşleniyor: pdf_folder\\ornek323.pdf\n",
      "📘 ornek323.pdf içinden çıkarılan topic sayısı: 40\n",
      "🔍 İşleniyor: pdf_folder\\ornek324.pdf\n",
      "📘 ornek324.pdf içinden çıkarılan topic sayısı: 62\n",
      "🔍 İşleniyor: pdf_folder\\ornek325.pdf\n",
      "📘 ornek325.pdf içinden çıkarılan topic sayısı: 39\n",
      "🔍 İşleniyor: pdf_folder\\ornek326.pdf\n",
      "📘 ornek326.pdf içinden çıkarılan topic sayısı: 62\n",
      "🔍 İşleniyor: pdf_folder\\ornek327.pdf\n",
      "📘 ornek327.pdf içinden çıkarılan topic sayısı: 77\n",
      "🔍 İşleniyor: pdf_folder\\ornek328.pdf\n",
      "📘 ornek328.pdf içinden çıkarılan topic sayısı: 66\n",
      "🔍 İşleniyor: pdf_folder\\ornek329.pdf\n",
      "📘 ornek329.pdf içinden çıkarılan topic sayısı: 41\n",
      "🔍 İşleniyor: pdf_folder\\ornek33.pdf\n"
     ]
    },
    {
     "name": "stderr",
     "output_type": "stream",
     "text": [
      "Could get FontBBox from font descriptor because None cannot be parsed as 4 floats\n",
      "Could get FontBBox from font descriptor because None cannot be parsed as 4 floats\n"
     ]
    },
    {
     "name": "stdout",
     "output_type": "stream",
     "text": [
      "📘 ornek33.pdf içinden çıkarılan topic sayısı: 162\n",
      "🔍 İşleniyor: pdf_folder\\ornek330.pdf\n",
      "📘 ornek330.pdf içinden çıkarılan topic sayısı: 29\n",
      "🔍 İşleniyor: pdf_folder\\ornek331.pdf\n",
      "📘 ornek331.pdf içinden çıkarılan topic sayısı: 25\n",
      "🔍 İşleniyor: pdf_folder\\ornek332.pdf\n",
      "📘 ornek332.pdf içinden çıkarılan topic sayısı: 51\n",
      "🔍 İşleniyor: pdf_folder\\ornek333.pdf\n",
      "📘 ornek333.pdf içinden çıkarılan topic sayısı: 37\n",
      "🔍 İşleniyor: pdf_folder\\ornek334.pdf\n",
      "📘 ornek334.pdf içinden çıkarılan topic sayısı: 9\n",
      "🔍 İşleniyor: pdf_folder\\ornek335.pdf\n",
      "📘 ornek335.pdf içinden çıkarılan topic sayısı: 26\n",
      "🔍 İşleniyor: pdf_folder\\ornek336.pdf\n",
      "📘 ornek336.pdf içinden çıkarılan topic sayısı: 17\n",
      "🔍 İşleniyor: pdf_folder\\ornek337.pdf\n",
      "📘 ornek337.pdf içinden çıkarılan topic sayısı: 35\n",
      "🔍 İşleniyor: pdf_folder\\ornek338.pdf\n",
      "📘 ornek338.pdf içinden çıkarılan topic sayısı: 25\n",
      "🔍 İşleniyor: pdf_folder\\ornek339.pdf\n",
      "📘 ornek339.pdf içinden çıkarılan topic sayısı: 24\n",
      "🔍 İşleniyor: pdf_folder\\ornek34.pdf\n",
      "📘 ornek34.pdf içinden çıkarılan topic sayısı: 1\n",
      "🔍 İşleniyor: pdf_folder\\ornek340.pdf\n",
      "📘 ornek340.pdf içinden çıkarılan topic sayısı: 117\n",
      "🔍 İşleniyor: pdf_folder\\ornek341.pdf\n",
      "📘 ornek341.pdf içinden çıkarılan topic sayısı: 9\n",
      "🔍 İşleniyor: pdf_folder\\ornek342.pdf\n",
      "📘 ornek342.pdf içinden çıkarılan topic sayısı: 38\n",
      "🔍 İşleniyor: pdf_folder\\ornek343.pdf\n",
      "📘 ornek343.pdf içinden çıkarılan topic sayısı: 39\n",
      "🔍 İşleniyor: pdf_folder\\ornek344.pdf\n",
      "📘 ornek344.pdf içinden çıkarılan topic sayısı: 1004\n",
      "🔍 İşleniyor: pdf_folder\\ornek345.pdf\n",
      "📘 ornek345.pdf içinden çıkarılan topic sayısı: 24\n",
      "🔍 İşleniyor: pdf_folder\\ornek346.pdf\n",
      "📘 ornek346.pdf içinden çıkarılan topic sayısı: 668\n",
      "🔍 İşleniyor: pdf_folder\\ornek347.pdf\n",
      "📘 ornek347.pdf içinden çıkarılan topic sayısı: 158\n",
      "🔍 İşleniyor: pdf_folder\\ornek348.pdf\n",
      "📘 ornek348.pdf içinden çıkarılan topic sayısı: 6\n",
      "🔍 İşleniyor: pdf_folder\\ornek349.pdf\n",
      "📘 ornek349.pdf içinden çıkarılan topic sayısı: 4\n",
      "🔍 İşleniyor: pdf_folder\\ornek35.pdf\n",
      "📘 ornek35.pdf içinden çıkarılan topic sayısı: 55\n",
      "🔍 İşleniyor: pdf_folder\\ornek350.pdf\n",
      "📘 ornek350.pdf içinden çıkarılan topic sayısı: 311\n",
      "🔍 İşleniyor: pdf_folder\\ornek351.pdf\n",
      "📘 ornek351.pdf içinden çıkarılan topic sayısı: 1537\n",
      "🔍 İşleniyor: pdf_folder\\ornek352.pdf\n",
      "📘 ornek352.pdf içinden çıkarılan topic sayısı: 9\n",
      "🔍 İşleniyor: pdf_folder\\ornek353.pdf\n",
      "📘 ornek353.pdf içinden çıkarılan topic sayısı: 40\n",
      "🔍 İşleniyor: pdf_folder\\ornek354.pdf\n",
      "📘 ornek354.pdf içinden çıkarılan topic sayısı: 10\n",
      "🔍 İşleniyor: pdf_folder\\ornek355.pdf\n",
      "📘 ornek355.pdf içinden çıkarılan topic sayısı: 5\n",
      "🔍 İşleniyor: pdf_folder\\ornek356.pdf\n",
      "📘 ornek356.pdf içinden çıkarılan topic sayısı: 3\n",
      "🔍 İşleniyor: pdf_folder\\ornek357.pdf\n",
      "📘 ornek357.pdf içinden çıkarılan topic sayısı: 70\n",
      "🔍 İşleniyor: pdf_folder\\ornek358.pdf\n",
      "📘 ornek358.pdf içinden çıkarılan topic sayısı: 13\n",
      "🔍 İşleniyor: pdf_folder\\ornek359.pdf\n",
      "📘 ornek359.pdf içinden çıkarılan topic sayısı: 5\n",
      "🔍 İşleniyor: pdf_folder\\ornek36.pdf\n",
      "📘 ornek36.pdf içinden çıkarılan topic sayısı: 573\n",
      "🔍 İşleniyor: pdf_folder\\ornek360.pdf\n",
      "📘 ornek360.pdf içinden çıkarılan topic sayısı: 19\n",
      "🔍 İşleniyor: pdf_folder\\ornek361.pdf\n",
      "📘 ornek361.pdf içinden çıkarılan topic sayısı: 28\n",
      "🔍 İşleniyor: pdf_folder\\ornek362.pdf\n",
      "📘 ornek362.pdf içinden çıkarılan topic sayısı: 685\n",
      "🔍 İşleniyor: pdf_folder\\ornek363.pdf\n",
      "📘 ornek363.pdf içinden çıkarılan topic sayısı: 3\n",
      "🔍 İşleniyor: pdf_folder\\ornek364.pdf\n"
     ]
    },
    {
     "name": "stderr",
     "output_type": "stream",
     "text": [
      "Could get FontBBox from font descriptor because None cannot be parsed as 4 floats\n"
     ]
    },
    {
     "name": "stdout",
     "output_type": "stream",
     "text": [
      "📘 ornek364.pdf içinden çıkarılan topic sayısı: 514\n",
      "🔍 İşleniyor: pdf_folder\\ornek365.pdf\n",
      "📘 ornek365.pdf içinden çıkarılan topic sayısı: 11\n",
      "🔍 İşleniyor: pdf_folder\\ornek366.pdf\n",
      "📘 ornek366.pdf içinden çıkarılan topic sayısı: 440\n",
      "🔍 İşleniyor: pdf_folder\\ornek367.pdf\n"
     ]
    },
    {
     "name": "stderr",
     "output_type": "stream",
     "text": [
      "Cannot set gray stroke color because /'P4063' is an invalid float value\n",
      "Cannot set gray non-stroke color because /'P4063' is an invalid float value\n",
      "Cannot set gray stroke color because /'P4064' is an invalid float value\n",
      "Cannot set gray non-stroke color because /'P4064' is an invalid float value\n",
      "Cannot set gray stroke color because /'P4065' is an invalid float value\n",
      "Cannot set gray non-stroke color because /'P4065' is an invalid float value\n",
      "Cannot set gray stroke color because /'P4066' is an invalid float value\n",
      "Cannot set gray non-stroke color because /'P4066' is an invalid float value\n",
      "Cannot set gray stroke color because /'P4067' is an invalid float value\n",
      "Cannot set gray non-stroke color because /'P4067' is an invalid float value\n",
      "Cannot set gray stroke color because /'P4068' is an invalid float value\n",
      "Cannot set gray non-stroke color because /'P4068' is an invalid float value\n",
      "Cannot set gray stroke color because /'P4114' is an invalid float value\n",
      "Cannot set gray non-stroke color because /'P4114' is an invalid float value\n",
      "Cannot set gray stroke color because /'P4116' is an invalid float value\n",
      "Cannot set gray non-stroke color because /'P4116' is an invalid float value\n"
     ]
    },
    {
     "name": "stdout",
     "output_type": "stream",
     "text": [
      "📘 ornek367.pdf içinden çıkarılan topic sayısı: 1138\n",
      "🔍 İşleniyor: pdf_folder\\ornek368.pdf\n",
      "📘 ornek368.pdf içinden çıkarılan topic sayısı: 15\n",
      "🔍 İşleniyor: pdf_folder\\ornek369.pdf\n",
      "📘 ornek369.pdf içinden çıkarılan topic sayısı: 133\n",
      "🔍 İşleniyor: pdf_folder\\ornek37.pdf\n",
      "📘 ornek37.pdf içinden çıkarılan topic sayısı: 342\n",
      "🔍 İşleniyor: pdf_folder\\ornek370.pdf\n"
     ]
    },
    {
     "name": "stderr",
     "output_type": "stream",
     "text": [
      "Could get FontBBox from font descriptor because None cannot be parsed as 4 floats\n"
     ]
    },
    {
     "name": "stdout",
     "output_type": "stream",
     "text": [
      "📘 ornek370.pdf içinden çıkarılan topic sayısı: 331\n",
      "🔍 İşleniyor: pdf_folder\\ornek371.pdf\n",
      "📘 ornek371.pdf içinden çıkarılan topic sayısı: 25\n",
      "🔍 İşleniyor: pdf_folder\\ornek372.pdf\n",
      "📘 ornek372.pdf içinden çıkarılan topic sayısı: 217\n",
      "🔍 İşleniyor: pdf_folder\\ornek373.pdf\n",
      "📘 ornek373.pdf içinden çıkarılan topic sayısı: 3\n",
      "🔍 İşleniyor: pdf_folder\\ornek374.pdf\n",
      "📘 ornek374.pdf içinden çıkarılan topic sayısı: 377\n",
      "🔍 İşleniyor: pdf_folder\\ornek375.pdf\n",
      "📘 ornek375.pdf içinden çıkarılan topic sayısı: 83\n",
      "🔍 İşleniyor: pdf_folder\\ornek376.pdf\n",
      "📘 ornek376.pdf içinden çıkarılan topic sayısı: 133\n",
      "🔍 İşleniyor: pdf_folder\\ornek377.pdf\n",
      "📘 ornek377.pdf içinden çıkarılan topic sayısı: 161\n",
      "🔍 İşleniyor: pdf_folder\\ornek378.pdf\n",
      "📘 ornek378.pdf içinden çıkarılan topic sayısı: 106\n",
      "🔍 İşleniyor: pdf_folder\\ornek379.pdf\n",
      "📘 ornek379.pdf içinden çıkarılan topic sayısı: 70\n",
      "🔍 İşleniyor: pdf_folder\\ornek38.pdf\n",
      "📘 ornek38.pdf içinden çıkarılan topic sayısı: 1\n",
      "🔍 İşleniyor: pdf_folder\\ornek380.pdf\n",
      "📘 ornek380.pdf içinden çıkarılan topic sayısı: 65\n",
      "🔍 İşleniyor: pdf_folder\\ornek381.pdf\n",
      "📘 ornek381.pdf içinden çıkarılan topic sayısı: 3\n",
      "🔍 İşleniyor: pdf_folder\\ornek382.pdf\n",
      "📘 ornek382.pdf içinden çıkarılan topic sayısı: 34\n",
      "🔍 İşleniyor: pdf_folder\\ornek383.pdf\n",
      "📘 ornek383.pdf içinden çıkarılan topic sayısı: 31\n",
      "🔍 İşleniyor: pdf_folder\\ornek384.pdf\n",
      "📘 ornek384.pdf içinden çıkarılan topic sayısı: 56\n",
      "🔍 İşleniyor: pdf_folder\\ornek385.pdf\n",
      "📘 ornek385.pdf içinden çıkarılan topic sayısı: 101\n",
      "🔍 İşleniyor: pdf_folder\\ornek39.pdf\n",
      "📘 ornek39.pdf içinden çıkarılan topic sayısı: 62\n",
      "🔍 İşleniyor: pdf_folder\\ornek4.pdf\n",
      "📘 ornek4.pdf içinden çıkarılan topic sayısı: 43\n",
      "🔍 İşleniyor: pdf_folder\\ornek40.pdf\n",
      "📘 ornek40.pdf içinden çıkarılan topic sayısı: 21\n",
      "🔍 İşleniyor: pdf_folder\\ornek41.pdf\n",
      "📘 ornek41.pdf içinden çıkarılan topic sayısı: 102\n",
      "🔍 İşleniyor: pdf_folder\\ornek42.pdf\n",
      "📘 ornek42.pdf içinden çıkarılan topic sayısı: 619\n",
      "🔍 İşleniyor: pdf_folder\\ornek43.pdf\n",
      "📘 ornek43.pdf içinden çıkarılan topic sayısı: 35\n",
      "🔍 İşleniyor: pdf_folder\\ornek44.pdf\n",
      "📘 ornek44.pdf içinden çıkarılan topic sayısı: 117\n",
      "🔍 İşleniyor: pdf_folder\\ornek45.pdf\n",
      "📘 ornek45.pdf içinden çıkarılan topic sayısı: 150\n",
      "🔍 İşleniyor: pdf_folder\\ornek46.pdf\n",
      "📘 ornek46.pdf içinden çıkarılan topic sayısı: 210\n",
      "🔍 İşleniyor: pdf_folder\\ornek47.pdf\n",
      "📘 ornek47.pdf içinden çıkarılan topic sayısı: 220\n",
      "🔍 İşleniyor: pdf_folder\\ornek48.pdf\n",
      "📘 ornek48.pdf içinden çıkarılan topic sayısı: 944\n",
      "🔍 İşleniyor: pdf_folder\\ornek49.pdf\n",
      "📘 ornek49.pdf içinden çıkarılan topic sayısı: 37\n",
      "🔍 İşleniyor: pdf_folder\\ornek5.pdf\n",
      "📘 ornek5.pdf içinden çıkarılan topic sayısı: 145\n",
      "🔍 İşleniyor: pdf_folder\\ornek50.pdf\n",
      "📘 ornek50.pdf içinden çıkarılan topic sayısı: 81\n",
      "🔍 İşleniyor: pdf_folder\\ornek51.pdf\n",
      "📘 ornek51.pdf içinden çıkarılan topic sayısı: 54\n",
      "🔍 İşleniyor: pdf_folder\\ornek52.pdf\n",
      "📘 ornek52.pdf içinden çıkarılan topic sayısı: 179\n",
      "🔍 İşleniyor: pdf_folder\\ornek53.pdf\n",
      "📘 ornek53.pdf içinden çıkarılan topic sayısı: 142\n",
      "🔍 İşleniyor: pdf_folder\\ornek54.pdf\n"
     ]
    },
    {
     "name": "stderr",
     "output_type": "stream",
     "text": [
      "Could get FontBBox from font descriptor because None cannot be parsed as 4 floats\n",
      "Could get FontBBox from font descriptor because None cannot be parsed as 4 floats\n"
     ]
    },
    {
     "name": "stdout",
     "output_type": "stream",
     "text": [
      "📘 ornek54.pdf içinden çıkarılan topic sayısı: 290\n",
      "🔍 İşleniyor: pdf_folder\\ornek55.pdf\n",
      "📘 ornek55.pdf içinden çıkarılan topic sayısı: 79\n",
      "🔍 İşleniyor: pdf_folder\\ornek56.pdf\n",
      "📘 ornek56.pdf içinden çıkarılan topic sayısı: 309\n",
      "🔍 İşleniyor: pdf_folder\\ornek57.pdf\n",
      "📘 ornek57.pdf içinden çıkarılan topic sayısı: 110\n",
      "🔍 İşleniyor: pdf_folder\\ornek58.pdf\n",
      "📘 ornek58.pdf içinden çıkarılan topic sayısı: 18\n",
      "🔍 İşleniyor: pdf_folder\\ornek59.pdf\n",
      "📘 ornek59.pdf içinden çıkarılan topic sayısı: 33\n",
      "🔍 İşleniyor: pdf_folder\\ornek6.pdf\n",
      "📘 ornek6.pdf içinden çıkarılan topic sayısı: 371\n",
      "🔍 İşleniyor: pdf_folder\\ornek60.pdf\n",
      "📘 ornek60.pdf içinden çıkarılan topic sayısı: 105\n",
      "🔍 İşleniyor: pdf_folder\\ornek61.pdf\n",
      "📘 ornek61.pdf içinden çıkarılan topic sayısı: 129\n",
      "🔍 İşleniyor: pdf_folder\\ornek62.pdf\n",
      "📘 ornek62.pdf içinden çıkarılan topic sayısı: 217\n",
      "🔍 İşleniyor: pdf_folder\\ornek63.pdf\n",
      "📘 ornek63.pdf içinden çıkarılan topic sayısı: 253\n",
      "🔍 İşleniyor: pdf_folder\\ornek64.pdf\n",
      "📘 ornek64.pdf içinden çıkarılan topic sayısı: 205\n",
      "🔍 İşleniyor: pdf_folder\\ornek65.pdf\n",
      "📘 ornek65.pdf içinden çıkarılan topic sayısı: 65\n",
      "🔍 İşleniyor: pdf_folder\\ornek66.pdf\n",
      "📘 ornek66.pdf içinden çıkarılan topic sayısı: 80\n",
      "🔍 İşleniyor: pdf_folder\\ornek67.pdf\n",
      "📘 ornek67.pdf içinden çıkarılan topic sayısı: 191\n",
      "🔍 İşleniyor: pdf_folder\\ornek68.pdf\n",
      "📘 ornek68.pdf içinden çıkarılan topic sayısı: 46\n",
      "🔍 İşleniyor: pdf_folder\\ornek69.pdf\n",
      "📘 ornek69.pdf içinden çıkarılan topic sayısı: 37\n",
      "🔍 İşleniyor: pdf_folder\\ornek7.pdf\n",
      "📘 ornek7.pdf içinden çıkarılan topic sayısı: 83\n",
      "🔍 İşleniyor: pdf_folder\\ornek70.pdf\n",
      "📘 ornek70.pdf içinden çıkarılan topic sayısı: 67\n",
      "🔍 İşleniyor: pdf_folder\\ornek71.pdf\n",
      "📘 ornek71.pdf içinden çıkarılan topic sayısı: 77\n",
      "🔍 İşleniyor: pdf_folder\\ornek72.pdf\n",
      "📘 ornek72.pdf içinden çıkarılan topic sayısı: 217\n",
      "🔍 İşleniyor: pdf_folder\\ornek73.pdf\n",
      "📘 ornek73.pdf içinden çıkarılan topic sayısı: 208\n",
      "🔍 İşleniyor: pdf_folder\\ornek74.pdf\n",
      "📘 ornek74.pdf içinden çıkarılan topic sayısı: 47\n",
      "🔍 İşleniyor: pdf_folder\\ornek75.pdf\n",
      "📘 ornek75.pdf içinden çıkarılan topic sayısı: 41\n",
      "🔍 İşleniyor: pdf_folder\\ornek76.pdf\n",
      "📘 ornek76.pdf içinden çıkarılan topic sayısı: 22\n",
      "🔍 İşleniyor: pdf_folder\\ornek77.pdf\n",
      "📘 ornek77.pdf içinden çıkarılan topic sayısı: 129\n",
      "🔍 İşleniyor: pdf_folder\\ornek78.pdf\n",
      "📘 ornek78.pdf içinden çıkarılan topic sayısı: 132\n",
      "🔍 İşleniyor: pdf_folder\\ornek79.pdf\n",
      "📘 ornek79.pdf içinden çıkarılan topic sayısı: 243\n",
      "🔍 İşleniyor: pdf_folder\\ornek8.pdf\n",
      "📘 ornek8.pdf içinden çıkarılan topic sayısı: 71\n",
      "🔍 İşleniyor: pdf_folder\\ornek80.pdf\n",
      "📘 ornek80.pdf içinden çıkarılan topic sayısı: 152\n",
      "🔍 İşleniyor: pdf_folder\\ornek81.pdf\n",
      "📘 ornek81.pdf içinden çıkarılan topic sayısı: 245\n",
      "🔍 İşleniyor: pdf_folder\\ornek82.pdf\n",
      "📘 ornek82.pdf içinden çıkarılan topic sayısı: 264\n",
      "🔍 İşleniyor: pdf_folder\\ornek83.pdf\n",
      "📘 ornek83.pdf içinden çıkarılan topic sayısı: 124\n",
      "🔍 İşleniyor: pdf_folder\\ornek84.pdf\n",
      "📘 ornek84.pdf içinden çıkarılan topic sayısı: 59\n",
      "🔍 İşleniyor: pdf_folder\\ornek85.pdf\n",
      "📘 ornek85.pdf içinden çıkarılan topic sayısı: 149\n",
      "🔍 İşleniyor: pdf_folder\\ornek86.pdf\n",
      "📘 ornek86.pdf içinden çıkarılan topic sayısı: 60\n",
      "🔍 İşleniyor: pdf_folder\\ornek87.pdf\n",
      "📘 ornek87.pdf içinden çıkarılan topic sayısı: 132\n",
      "🔍 İşleniyor: pdf_folder\\ornek88.pdf\n",
      "📘 ornek88.pdf içinden çıkarılan topic sayısı: 32\n",
      "🔍 İşleniyor: pdf_folder\\ornek89.pdf\n",
      "📘 ornek89.pdf içinden çıkarılan topic sayısı: 913\n",
      "🔍 İşleniyor: pdf_folder\\ornek9.pdf\n",
      "📘 ornek9.pdf içinden çıkarılan topic sayısı: 27\n",
      "🔍 İşleniyor: pdf_folder\\ornek90.pdf\n",
      "📘 ornek90.pdf içinden çıkarılan topic sayısı: 616\n",
      "🔍 İşleniyor: pdf_folder\\ornek91.pdf\n",
      "📘 ornek91.pdf içinden çıkarılan topic sayısı: 33\n",
      "🔍 İşleniyor: pdf_folder\\ornek92.pdf\n",
      "📘 ornek92.pdf içinden çıkarılan topic sayısı: 6\n",
      "🔍 İşleniyor: pdf_folder\\ornek93.pdf\n",
      "📘 ornek93.pdf içinden çıkarılan topic sayısı: 424\n",
      "🔍 İşleniyor: pdf_folder\\ornek94.pdf\n",
      "📘 ornek94.pdf içinden çıkarılan topic sayısı: 313\n",
      "🔍 İşleniyor: pdf_folder\\ornek95.pdf\n",
      "📘 ornek95.pdf içinden çıkarılan topic sayısı: 331\n",
      "🔍 İşleniyor: pdf_folder\\ornek96.pdf\n",
      "📘 ornek96.pdf içinden çıkarılan topic sayısı: 47\n",
      "🔍 İşleniyor: pdf_folder\\ornek97.pdf\n",
      "📘 ornek97.pdf içinden çıkarılan topic sayısı: 24\n",
      "🔍 İşleniyor: pdf_folder\\ornek98.pdf\n",
      "📘 ornek98.pdf içinden çıkarılan topic sayısı: 1833\n",
      "🔍 İşleniyor: pdf_folder\\ornek99.pdf\n",
      "📘 ornek99.pdf içinden çıkarılan topic sayısı: 1764\n",
      "✅ Tüm veriler kaydedildi: data.csv\n"
     ]
    }
   ],
   "source": [
    "import pdfplumber\n",
    "import pandas as pd\n",
    "import os\n",
    "\n",
    "# ✅ Ayarlar\n",
    "PDF_ROOT_DIR = \"pdf_folder\"\n",
    "OUTPUT_CSV = \"data.csv\"\n",
    "TARGET_COLOR = (0.1882, 0.3176, 0.3922)\n",
    "MIN_TITLE_GAP = 15  # başlıklar arası dikey mesafe farkı (yani çok yakınsa iptal edilecek)\n",
    "\n",
    "# 📄 CSV birleştirme için\n",
    "all_sections = []\n",
    "\n",
    "# 📂 Klasördeki tüm PDF dosyalarını tara\n",
    "for root, _, files in os.walk(PDF_ROOT_DIR):\n",
    "    for file in sorted(files):\n",
    "        if file.lower().endswith(\".pdf\"):\n",
    "            pdf_path = os.path.join(root, file)\n",
    "            print(f\"🔍 İşleniyor: {pdf_path}\")\n",
    "\n",
    "            sections = []\n",
    "            root_title = None\n",
    "            current_title = None\n",
    "            current_content = \"\"\n",
    "            current_size = None\n",
    "\n",
    "            with pdfplumber.open(pdf_path) as pdf:\n",
    "                for page in pdf.pages:\n",
    "                    lines = {}\n",
    "                    for char in page.chars:\n",
    "                        top = round(char[\"top\"], 1)\n",
    "                        lines.setdefault(top, []).append(char)\n",
    "\n",
    "                    sorted_tops = sorted(lines.keys())\n",
    "\n",
    "                    # 🔍 Başlık adayı satırları topla\n",
    "                    candidates = []\n",
    "                    for idx, top in enumerate(sorted_tops):\n",
    "                        line_chars = lines[top]\n",
    "                        text = \"\".join(c[\"text\"] for c in line_chars).strip()\n",
    "                        sizes = set(c[\"size\"] for c in line_chars)\n",
    "                        colors = set(c[\"non_stroking_color\"] for c in line_chars)\n",
    "\n",
    "                        has_correct_color = TARGET_COLOR in colors\n",
    "                        has_correct_size = any(s > 10 for s in sizes)\n",
    "\n",
    "                        is_title = has_correct_color and has_correct_size\n",
    "                        candidates.append({\n",
    "                            \"top\": top,\n",
    "                            \"text\": text,\n",
    "                            \"line_chars\": line_chars,\n",
    "                            \"is_title\": is_title\n",
    "                        })\n",
    "\n",
    "                    # 🔁 Gerçek başlıkları belirle\n",
    "                    valid_titles = []\n",
    "                    for i, item in enumerate(candidates):\n",
    "                        if not item[\"is_title\"]:\n",
    "                            continue\n",
    "\n",
    "                        prev = candidates[i - 1] if i > 0 else None\n",
    "                        next = candidates[i + 1] if i + 1 < len(candidates) else None\n",
    "\n",
    "                        too_close_prev = prev and prev[\"is_title\"] and abs(item[\"top\"] - prev[\"top\"]) < MIN_TITLE_GAP\n",
    "                        too_close_next = next and next[\"is_title\"] and abs(next[\"top\"] - item[\"top\"]) < MIN_TITLE_GAP\n",
    "\n",
    "                        if too_close_prev or too_close_next:\n",
    "                            item[\"is_title\"] = False  # başlık olarak işleme\n",
    "                        else:\n",
    "                            valid_titles.append(item[\"top\"])\n",
    "\n",
    "                    # 🔁 Satırları işle\n",
    "                    for top in sorted_tops:\n",
    "                        line_chars = lines[top]\n",
    "                        text = \"\".join(c[\"text\"] for c in line_chars).strip()\n",
    "                        sizes = set(c[\"size\"] for c in line_chars)\n",
    "                        colors = set(c[\"non_stroking_color\"] for c in line_chars)\n",
    "\n",
    "                        has_correct_color = TARGET_COLOR in colors\n",
    "                        has_correct_size = any(s > 10 for s in sizes)\n",
    "\n",
    "                        is_title = has_correct_color and has_correct_size and top in valid_titles\n",
    "\n",
    "                        if is_title:\n",
    "                            if root_title is None:\n",
    "                                root_title = text\n",
    "                            else:\n",
    "                                text = f\"{root_title}>{text}\"\n",
    "\n",
    "                            if current_title:\n",
    "                                sections.append({\n",
    "                                    \"title\": current_title,\n",
    "                                    \"content\": current_content.strip(),\n",
    "                                    \"correct_color\": True,\n",
    "                                    \"correct_size\": True,\n",
    "                                    \"source_pdf\": file,\n",
    "                                    \"font_size\": current_size if current_size else \"\"\n",
    "                                })\n",
    "\n",
    "                            current_title = text\n",
    "                            current_content = \"\"\n",
    "                            size_vals = [c[\"size\"] for c in line_chars]\n",
    "                            current_size = sum(size_vals) / len(size_vals) if size_vals else \"\"\n",
    "                        else:\n",
    "                            current_content += text + \" \"\n",
    "\n",
    "            if current_title:\n",
    "                sections.append({\n",
    "                    \"title\": current_title,\n",
    "                    \"content\": current_content.strip(),\n",
    "                    \"correct_color\": True,\n",
    "                    \"correct_size\": True,\n",
    "                    \"source_pdf\": file,\n",
    "                    \"font_size\": current_size if current_size else \"\"\n",
    "                })\n",
    "\n",
    "            print(f\"📘 {file} içinden çıkarılan topic sayısı: {len(sections)}\")\n",
    "            all_sections.extend(sections)\n",
    "\n",
    "# 📊 DataFrame oluştur ve kaydet\n",
    "new_df = pd.DataFrame(all_sections)\n",
    "\n",
    "if os.path.exists(OUTPUT_CSV):\n",
    "    old_df = pd.read_csv(OUTPUT_CSV)\n",
    "    combined_df = pd.concat([old_df, new_df], ignore_index=True)\n",
    "else:\n",
    "    combined_df = new_df\n",
    "\n",
    "combined_df.to_csv(OUTPUT_CSV, index=False, encoding=\"utf-8\")\n",
    "print(f\"✅ Tüm veriler kaydedildi: {OUTPUT_CSV}\")"
   ]
  },
  {
   "cell_type": "code",
   "execution_count": null,
   "id": "c98dcfd9",
   "metadata": {},
   "outputs": [
    {
     "name": "stdout",
     "output_type": "stream",
     "text": [
      "🔁 Aynı title ve content'e sahip satır sayısı: 0\n"
     ]
    }
   ],
   "source": [
    "import pandas as pd\n",
    "\n",
    "# CSV dosyasını oku\n",
    "df = pd.read_csv(\"data.csv\")\n",
    "\n",
    "# Aynı title ve content'e sahip tekrar eden satırları grupla\n",
    "duplicate_rows = df.duplicated(subset=[\"title\", \"content\"], keep=\"false\")\n",
    "\n",
    "# Bu satırların sayısını yazdır\n",
    "count = duplicate_rows.sum()\n",
    "print(f\"🔁 Aynı title ve content'e sahip satır sayısı: {count}\")"
   ]
  },
  {
   "cell_type": "code",
   "execution_count": 9,
   "id": "9251d9ba",
   "metadata": {},
   "outputs": [],
   "source": [
    "# İstenmeyen sütunları çıkar\n",
    "columns_to_drop = [\"correct_color\", \"correct_size\", \"source_pdf\", \"font_size\"]\n",
    "df = df.drop(columns=columns_to_drop, errors='ignore')  # errors='ignore' eksik sütun varsa hata vermez"
   ]
  },
  {
   "cell_type": "code",
   "execution_count": null,
   "id": "30b5bd3a",
   "metadata": {},
   "outputs": [
    {
     "name": "stdout",
     "output_type": "stream",
     "text": [
      "✅ df ile veri.csv başarıyla birleştirildi ve birlesik_veri.csv olarak kaydedildi.\n"
     ]
    }
   ],
   "source": [
    "import pandas as pd\n",
    "\n",
    "# veri.csv'yi oku\n",
    "df_veri = pd.read_csv(\"veri.csv\")\n",
    "\n",
    "# mevcut df ile birleştir\n",
    "df_birlesik = pd.concat([df, df_veri], ignore_index=True)\n",
    "\n",
    "# Sonucu yeni dosyaya kaydet\n",
    "df_birlesik.to_csv(\"birlesik_veri.csv\", index=False)\n",
    "print(\"✅ df ile veri.csv başarıyla birleştirildi ve birlesik_veri.csv olarak kaydedildi.\")\n"
   ]
  },
  {
   "cell_type": "code",
   "execution_count": 17,
   "id": "458df142",
   "metadata": {},
   "outputs": [
    {
     "data": {
      "text/html": [
       "<div>\n",
       "<style scoped>\n",
       "    .dataframe tbody tr th:only-of-type {\n",
       "        vertical-align: middle;\n",
       "    }\n",
       "\n",
       "    .dataframe tbody tr th {\n",
       "        vertical-align: top;\n",
       "    }\n",
       "\n",
       "    .dataframe thead th {\n",
       "        text-align: right;\n",
       "    }\n",
       "</style>\n",
       "<table border=\"1\" class=\"dataframe\">\n",
       "  <thead>\n",
       "    <tr style=\"text-align: right;\">\n",
       "      <th></th>\n",
       "      <th>title</th>\n",
       "      <th>content</th>\n",
       "    </tr>\n",
       "  </thead>\n",
       "  <tbody>\n",
       "    <tr>\n",
       "      <th>0</th>\n",
       "      <td>Getting Started</td>\n",
       "      <td>3DEXPERIENCE provides an easy-to-use interface...</td>\n",
       "    </tr>\n",
       "    <tr>\n",
       "      <th>1</th>\n",
       "      <td>Getting Started&gt;Setting Up Your 3DEXPERIENCE P...</td>\n",
       "      <td>If you are the platform administrator you need...</td>\n",
       "    </tr>\n",
       "    <tr>\n",
       "      <th>2</th>\n",
       "      <td>Getting Started&gt;Starting the 3DEXPERIENCE Plat...</td>\n",
       "      <td>Once you have been granted the required access...</td>\n",
       "    </tr>\n",
       "    <tr>\n",
       "      <th>3</th>\n",
       "      <td>Getting Started&gt;Discovering Roles, Apps, Busin...</td>\n",
       "      <td>You can discover all the roles, apps, business...</td>\n",
       "    </tr>\n",
       "    <tr>\n",
       "      <th>4</th>\n",
       "      <td>Getting Started&gt;Accessing a Dashboard</td>\n",
       "      <td>Dashboards let you gather and reuse content fr...</td>\n",
       "    </tr>\n",
       "  </tbody>\n",
       "</table>\n",
       "</div>"
      ],
      "text/plain": [
       "                                               title  \\\n",
       "0                                    Getting Started   \n",
       "1  Getting Started>Setting Up Your 3DEXPERIENCE P...   \n",
       "2  Getting Started>Starting the 3DEXPERIENCE Plat...   \n",
       "3  Getting Started>Discovering Roles, Apps, Busin...   \n",
       "4              Getting Started>Accessing a Dashboard   \n",
       "\n",
       "                                             content  \n",
       "0  3DEXPERIENCE provides an easy-to-use interface...  \n",
       "1  If you are the platform administrator you need...  \n",
       "2  Once you have been granted the required access...  \n",
       "3  You can discover all the roles, apps, business...  \n",
       "4  Dashboards let you gather and reuse content fr...  "
      ]
     },
     "execution_count": 17,
     "metadata": {},
     "output_type": "execute_result"
    }
   ],
   "source": [
    "import pandas as pd\n",
    "df=pd.read_csv(\"birlesik_veri.csv\")\n",
    "df.head()"
   ]
  },
  {
   "cell_type": "code",
   "execution_count": 18,
   "id": "96ba362a",
   "metadata": {},
   "outputs": [
    {
     "name": "stdout",
     "output_type": "stream",
     "text": [
      "Installation and Setup > 3DEXPERIENCE Platform > 3DEXPERIENCE Configuration and Customization > 3DSpace Data Model > Unified Typing Reference Dictionary > Packages > XCADModeler Types\n"
     ]
    }
   ],
   "source": [
    "print(df.iloc[-10][\"title\"])"
   ]
  },
  {
   "cell_type": "code",
   "execution_count": 1,
   "id": "958082f5",
   "metadata": {},
   "outputs": [],
   "source": [
    "import pandas as pd\n",
    "\n",
    "# Örneğin mevcut veri çerçevesi\n",
    "new_df = pd.read_csv(\"data.csv\")\n",
    "\n",
    "# Yeni df oluştur: son 991 veriyi al\n",
    "#new_df = combined_df.tail(991)\n"
   ]
  },
  {
   "cell_type": "code",
   "execution_count": 3,
   "id": "b092e321",
   "metadata": {},
   "outputs": [
    {
     "data": {
      "text/html": [
       "<div>\n",
       "<style scoped>\n",
       "    .dataframe tbody tr th:only-of-type {\n",
       "        vertical-align: middle;\n",
       "    }\n",
       "\n",
       "    .dataframe tbody tr th {\n",
       "        vertical-align: top;\n",
       "    }\n",
       "\n",
       "    .dataframe thead th {\n",
       "        text-align: right;\n",
       "    }\n",
       "</style>\n",
       "<table border=\"1\" class=\"dataframe\">\n",
       "  <thead>\n",
       "    <tr style=\"text-align: right;\">\n",
       "      <th></th>\n",
       "      <th>title</th>\n",
       "      <th>content</th>\n",
       "      <th>correct_color</th>\n",
       "      <th>correct_size</th>\n",
       "      <th>source_pdf</th>\n",
       "      <th>font_size</th>\n",
       "    </tr>\n",
       "  </thead>\n",
       "  <tbody>\n",
       "    <tr>\n",
       "      <th>57760</th>\n",
       "      <td>Systems Architecture&gt;Object Naming and Types</td>\n",
       "      <td>The objects created in Preliminary Risk Assess...</td>\n",
       "      <td>True</td>\n",
       "      <td>True</td>\n",
       "      <td>ornek99.pdf</td>\n",
       "      <td>10.665</td>\n",
       "    </tr>\n",
       "    <tr>\n",
       "      <th>57761</th>\n",
       "      <td>Systems Architecture&gt;Labels Configuration</td>\n",
       "      <td>Readers can refer to specific components in th...</td>\n",
       "      <td>True</td>\n",
       "      <td>True</td>\n",
       "      <td>ornek99.pdf</td>\n",
       "      <td>10.665</td>\n",
       "    </tr>\n",
       "    <tr>\n",
       "      <th>57762</th>\n",
       "      <td>Systems Architecture&gt;Defining Time-Out Value</td>\n",
       "      <td>https://help.3ds.com/2024x/english/DSDoc/Front...</td>\n",
       "      <td>True</td>\n",
       "      <td>True</td>\n",
       "      <td>ornek99.pdf</td>\n",
       "      <td>10.665</td>\n",
       "    </tr>\n",
       "    <tr>\n",
       "      <th>57763</th>\n",
       "      <td>Systems Architecture&gt;Attributes on Occurrences</td>\n",
       "      <td>Readers may need to define attributes on occur...</td>\n",
       "      <td>True</td>\n",
       "      <td>True</td>\n",
       "      <td>ornek99.pdf</td>\n",
       "      <td>10.665</td>\n",
       "    </tr>\n",
       "    <tr>\n",
       "      <th>57764</th>\n",
       "      <td>Systems Architecture&gt;Custom Attributes for RAM...</td>\n",
       "      <td>As an Administrator, you can use the Attribute...</td>\n",
       "      <td>True</td>\n",
       "      <td>True</td>\n",
       "      <td>ornek99.pdf</td>\n",
       "      <td>10.665</td>\n",
       "    </tr>\n",
       "  </tbody>\n",
       "</table>\n",
       "</div>"
      ],
      "text/plain": [
       "                                                   title  \\\n",
       "57760       Systems Architecture>Object Naming and Types   \n",
       "57761          Systems Architecture>Labels Configuration   \n",
       "57762       Systems Architecture>Defining Time-Out Value   \n",
       "57763     Systems Architecture>Attributes on Occurrences   \n",
       "57764  Systems Architecture>Custom Attributes for RAM...   \n",
       "\n",
       "                                                 content correct_color  \\\n",
       "57760  The objects created in Preliminary Risk Assess...          True   \n",
       "57761  Readers can refer to specific components in th...          True   \n",
       "57762  https://help.3ds.com/2024x/english/DSDoc/Front...          True   \n",
       "57763  Readers may need to define attributes on occur...          True   \n",
       "57764  As an Administrator, you can use the Attribute...          True   \n",
       "\n",
       "      correct_size   source_pdf  font_size  \n",
       "57760         True  ornek99.pdf     10.665  \n",
       "57761         True  ornek99.pdf     10.665  \n",
       "57762         True  ornek99.pdf     10.665  \n",
       "57763         True  ornek99.pdf     10.665  \n",
       "57764         True  ornek99.pdf     10.665  "
      ]
     },
     "execution_count": 3,
     "metadata": {},
     "output_type": "execute_result"
    }
   ],
   "source": [
    "new_df.tail()"
   ]
  },
  {
   "cell_type": "code",
   "execution_count": 55,
   "id": "99a00b7e",
   "metadata": {},
   "outputs": [
    {
     "name": "stdout",
     "output_type": "stream",
     "text": [
      "🧹 Temizlenmiş veri satır sayısı: 682\n"
     ]
    },
    {
     "name": "stderr",
     "output_type": "stream",
     "text": [
      "C:\\Users\\sagla\\AppData\\Local\\Temp\\ipykernel_14488\\2781298192.py:4: SettingWithCopyWarning: \n",
      "A value is trying to be set on a copy of a slice from a DataFrame.\n",
      "Try using .loc[row_indexer,col_indexer] = value instead\n",
      "\n",
      "See the caveats in the documentation: https://pandas.pydata.org/pandas-docs/stable/user_guide/indexing.html#returning-a-view-versus-a-copy\n",
      "  new_df[\"content\"] = new_df[\"content\"].fillna(\"\").astype(str).str.strip()\n"
     ]
    }
   ],
   "source": [
    "import pandas as pd\n",
    "\n",
    "# Boşluk karakterlerini de boş sayabilmek için content'i temizle\n",
    "new_df[\"content\"] = new_df[\"content\"].fillna(\"\").astype(str).str.strip()\n",
    "\n",
    "# Yeni DataFrame'e sadece şu satırları al:\n",
    "# - Eğer title ilk kez görülüyorsa: her durumda dahil et\n",
    "# - Eğer daha önce görüldüyse ama content boş değilse: dahil et\n",
    "# - Eğer daha önce görüldüyse ve content boşsa: dahil etme\n",
    "\n",
    "seen_titles = set()\n",
    "clean_rows = []\n",
    "\n",
    "for _, row in new_df.iterrows():\n",
    "    title = row[\"title\"]\n",
    "    content = row[\"content\"]\n",
    "\n",
    "    if title not in seen_titles:\n",
    "        clean_rows.append(row)\n",
    "        seen_titles.add(title)\n",
    "    else:\n",
    "        if content.strip():  # boş değilse\n",
    "            clean_rows.append(row)\n",
    "\n",
    "# Yeni temiz DataFrame\n",
    "clean_df = pd.DataFrame(clean_rows)\n",
    "\n",
    "# Sonuç\n",
    "print(f\"🧹 Temizlenmiş veri satır sayısı: {clean_df.shape[0]}\")\n",
    "\n",
    "# CSV'ye kaydetmek istersen:\n",
    "# clean_df.to_csv(\"veri_pdf_cleaned.csv\", index=False)\n"
   ]
  },
  {
   "cell_type": "code",
   "execution_count": 62,
   "id": "b6c9c862",
   "metadata": {},
   "outputs": [
    {
     "name": "stdout",
     "output_type": "stream",
     "text": [
      "✅ İlk 100 boş içerikli satır a.csv dosyasına kaydedildi.\n"
     ]
    }
   ],
   "source": [
    "# content'i boş olan ilk 100 satırı filtrele\n",
    "empty_content_rows = new_df[new_df[\"content\"].fillna(\"\").str.strip() == \"\"]\n",
    "\n",
    "# İlk 100 satırı al\n",
    "empty_content_rows_head = empty_content_rows\n",
    "\n",
    "# CSV olarak kaydet\n",
    "empty_content_rows_head.to_csv(\"a.csv\", index=False, encoding=\"utf-8\")\n",
    "\n",
    "print(\"✅ İlk 100 boş içerikli satır a.csv dosyasına kaydedildi.\")\n"
   ]
  },
  {
   "cell_type": "code",
   "execution_count": 32,
   "id": "64c40196",
   "metadata": {},
   "outputs": [
    {
     "name": "stdout",
     "output_type": "stream",
     "text": [
      "✅ Eşsiz title'lara sahip kalan satır sayısı: 317\n"
     ]
    }
   ],
   "source": [
    "# Aynı title’dan birden fazla varsa tümünü sil (tamamen benzersizler kalsın)\n",
    "df_unique = new_df[~new_df[\"title\"].duplicated(keep=False)]\n",
    "\n",
    "# Sonuç\n",
    "print(f\"✅ Eşsiz title'lara sahip kalan satır sayısı: {df_unique.shape[0]}\")\n",
    "\n",
    "# Yeni CSV'ye istersen kaydet\n",
    "# df_unique.to_csv(\"veri_pdf_unique.csv\", index=False)"
   ]
  },
  {
   "cell_type": "code",
   "execution_count": null,
   "id": "7bbc19ac",
   "metadata": {},
   "outputs": [],
   "source": [
    "# 🎯 Hedef font size\n",
    "hedef_size = 10.665000408824994\n",
    "\n",
    "# 📊 Bu font size'a sahip satırları filtrele\n",
    "new_df = new_df[new_df[\"font_size\"] == hedef_size].copy()\n",
    "\n",
    "# ✅ Sonucu göster\n",
    "print(f\"🎯 Font size {hedef_size} olan satır sayısı: {hedef_df.shape[0]}\")"
   ]
  },
  {
   "cell_type": "code",
   "execution_count": 24,
   "id": "5480e225",
   "metadata": {},
   "outputs": [
    {
     "data": {
      "text/plain": [
       "<bound method NDFrame.tail of                                                   title  \\\n",
       "6039                      Information Intelligence Apps   \n",
       "6040      Information Intelligence Apps>B.I. Essentials   \n",
       "6041           Information Intelligence Apps>What's New   \n",
       "6042  Information Intelligence Apps>About B.I. Essen...   \n",
       "6044  Information Intelligence Apps>Social and Colla...   \n",
       "...                                                 ...   \n",
       "7019            Information Intelligence Apps>Detecting   \n",
       "7020              Information Intelligence Apps>Savings   \n",
       "7021              Information Intelligence Apps>Tracked   \n",
       "7022                 Information Intelligence Apps>Task   \n",
       "7023          Information Intelligence Apps>Progression   \n",
       "\n",
       "                                                content correct_color  \\\n",
       "6039  Powered by the 3DEXPERIENCE platform, Informat...          True   \n",
       "6040  B.I. Essentials is an Information Intelligence...          True   \n",
       "6041         There are no enhancements in this release.          True   \n",
       "6042  This task explains concepts of the B.I. Essent...          True   \n",
       "6044  The B.I. Essentials described in this section ...          True   \n",
       "...                                                 ...           ...   \n",
       "7019                                                             True   \n",
       "7020  You can display a single part or a group of si...          True   \n",
       "7021                                                             True   \n",
       "7022                                                             True   \n",
       "7023  This chart displays the percentage of task pro...          True   \n",
       "\n",
       "     correct_size    source_pdf font  font_size  \n",
       "6039         True  ornek100.pdf  NaN     10.665  \n",
       "6040         True  ornek100.pdf  NaN     10.665  \n",
       "6041         True  ornek100.pdf  NaN     10.665  \n",
       "6042         True  ornek100.pdf  NaN     10.665  \n",
       "6044         True  ornek100.pdf  NaN     10.665  \n",
       "...           ...           ...  ...        ...  \n",
       "7019         True  ornek100.pdf  NaN     10.665  \n",
       "7020         True  ornek100.pdf  NaN     10.665  \n",
       "7021         True  ornek100.pdf  NaN     10.665  \n",
       "7022         True  ornek100.pdf  NaN     10.665  \n",
       "7023         True  ornek100.pdf  NaN     10.665  \n",
       "\n",
       "[873 rows x 7 columns]>"
      ]
     },
     "execution_count": 24,
     "metadata": {},
     "output_type": "execute_result"
    }
   ],
   "source": [
    "filtered_df.tail"
   ]
  },
  {
   "cell_type": "code",
   "execution_count": 14,
   "id": "41d69e2c",
   "metadata": {},
   "outputs": [
    {
     "name": "stdout",
     "output_type": "stream",
     "text": [
      "✅ Boş content'ler silindi ve dosya güncellendi.\n"
     ]
    }
   ],
   "source": [
    "import pandas as pd\n",
    "\n",
    "# Boş veya sadece boşluk olan content satırlarını filtrele\n",
    "new_df = new_df[new_df['content'].notna()]  # NaN olmayanlar\n",
    "new_df = new_df[new_df['content'].str.strip() != \"\"]  # sadece boşluk içerenleri de çıkar\n",
    "\n",
    "print(\"✅ Boş content'ler silindi ve dosya güncellendi.\")\n"
   ]
  },
  {
   "cell_type": "code",
   "execution_count": 16,
   "id": "67400243",
   "metadata": {},
   "outputs": [
    {
     "name": "stdout",
     "output_type": "stream",
     "text": [
      "🔢 'Information Intelligence Apps>' ile başlayan satır sayısı: 550\n"
     ]
    }
   ],
   "source": [
    "# \"Information Intelligence Apps>\" ile başlayan title'ları filtrele\n",
    "filtered = new_df[new_df['title'].str.startswith(\"Information Intelligence Apps>\")]\n",
    "\n",
    "# Sonucu yazdır\n",
    "print(f\"🔢 'Information Intelligence Apps>' ile başlayan satır sayısı: {len(filtered)}\")"
   ]
  },
  {
   "cell_type": "code",
   "execution_count": 8,
   "id": "1ceaf7b1",
   "metadata": {},
   "outputs": [
    {
     "data": {
      "text/plain": [
       "<bound method DataFrame.info of                                                   title  \\\n",
       "0                                       Getting Started   \n",
       "1     Getting Started>Setting Up Your 3DEXPERIENCE P...   \n",
       "2     Getting Started>Starting the 3DEXPERIENCE Plat...   \n",
       "3     Getting Started>Discovering Roles, Apps, Busin...   \n",
       "4                 Getting Started>Accessing a Dashboard   \n",
       "...                                                 ...   \n",
       "4629                       Fluid Systems>Specifications   \n",
       "4630                       Fluid Systems>Administration   \n",
       "4631  Fluid Systems>Data Setup: Fluidic Engineering ...   \n",
       "4632  Fluid Systems>Accessing Engineering Specificat...   \n",
       "4633  Fluid Systems>Types for Engineering Specificat...   \n",
       "\n",
       "                                                content correct_color  \\\n",
       "0     3DEXPERIENCE provides an easy-to-use interface...           NaN   \n",
       "1     If you are the platform administrator you need...           NaN   \n",
       "2     Once you have been granted the required access...           NaN   \n",
       "3     You can discover all the roles, apps, business...           NaN   \n",
       "4     Dashboards let you gather and reuse content fr...           NaN   \n",
       "...                                                 ...           ...   \n",
       "4629  You can create specifications by using the Spr...          True   \n",
       "4630  This section provides you with more informatio...          True   \n",
       "4631  A resource is a PLM object (for example, a cat...          True   \n",
       "4632  In the context of a business logic, you can ac...          True   \n",
       "4633  This topic provides you with more information ...          True   \n",
       "\n",
       "     correct_size   source_pdf  \n",
       "0             NaN          NaN  \n",
       "1             NaN          NaN  \n",
       "2             NaN          NaN  \n",
       "3             NaN          NaN  \n",
       "4             NaN          NaN  \n",
       "...           ...          ...  \n",
       "4629         True  ornek27.pdf  \n",
       "4630         True  ornek27.pdf  \n",
       "4631         True  ornek27.pdf  \n",
       "4632         True  ornek27.pdf  \n",
       "4633         True  ornek27.pdf  \n",
       "\n",
       "[4634 rows x 5 columns]>"
      ]
     },
     "execution_count": 8,
     "metadata": {},
     "output_type": "execute_result"
    }
   ],
   "source": [
    "combined_df.info"
   ]
  },
  {
   "cell_type": "code",
   "execution_count": null,
   "id": "e0fc1bf5",
   "metadata": {},
   "outputs": [],
   "source": [
    "import pandas as pd\n",
    "df=pd.read_csv(\"veri_pdf.csv\")\n",
    "print(df.iloc[-2][\"content\"])"
   ]
  }
 ],
 "metadata": {
  "kernelspec": {
   "display_name": "Python 3",
   "language": "python",
   "name": "python3"
  },
  "language_info": {
   "codemirror_mode": {
    "name": "ipython",
    "version": 3
   },
   "file_extension": ".py",
   "mimetype": "text/x-python",
   "name": "python",
   "nbconvert_exporter": "python",
   "pygments_lexer": "ipython3",
   "version": "3.9.10"
  }
 },
 "nbformat": 4,
 "nbformat_minor": 5
}
